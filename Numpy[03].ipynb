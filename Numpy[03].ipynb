{
 "cells": [
  {
   "cell_type": "markdown",
   "metadata": {},
   "source": [
    "- 기술통계함수(descriptive statistics)\n",
    "- count : 개수\n",
    "- mean, avg : 평균\n",
    "- var : 분산\n",
    "- sd : 표준편차\n",
    "- max : 최댓값\n",
    "- min : 최솟값\n",
    "- median : 중위수\n",
    "- quartile : 사분위수\n",
    "- np.random.rand() : 0~1 사이의 균일한 분포값을 리턴하는 함수\n",
    "- np.random.randn() : 정규분포\n",
    "- np.random.randint() : 정수의 난수 발생함수 / 0~n-1개까지"
   ]
  },
  {
   "cell_type": "code",
   "execution_count": 1,
   "metadata": {},
   "outputs": [],
   "source": [
    "import numpy as np"
   ]
  },
  {
   "cell_type": "code",
   "execution_count": 7,
   "metadata": {},
   "outputs": [
    {
     "name": "stdout",
     "output_type": "stream",
     "text": [
      "[ 18   5  10  23  19  -8  10   0   0   5   2  15   8   2   5   4  15  -1\n",
      "   4   7   5   7   9  -6  23 -13]\n"
     ]
    }
   ],
   "source": [
    "x = np.array([18, 5, 10, 23, 19, -8, 10, 0, 0, 5, 2, 15, 8, 2, 5, 4, 15, -1, 4, 7, 5, 7, 9, -6, 23, -13])\n",
    "print(x)"
   ]
  },
  {
   "cell_type": "code",
   "execution_count": 8,
   "metadata": {},
   "outputs": [
    {
     "data": {
      "text/plain": [
       "26"
      ]
     },
     "execution_count": 8,
     "metadata": {},
     "output_type": "execute_result"
    }
   ],
   "source": [
    "len(x)"
   ]
  },
  {
   "cell_type": "code",
   "execution_count": 9,
   "metadata": {},
   "outputs": [
    {
     "data": {
      "text/plain": [
       "6.461538461538462"
      ]
     },
     "execution_count": 9,
     "metadata": {},
     "output_type": "execute_result"
    }
   ],
   "source": [
    "np.mean(x)"
   ]
  },
  {
   "cell_type": "code",
   "execution_count": 10,
   "metadata": {},
   "outputs": [
    {
     "data": {
      "text/plain": [
       "75.40236686390533"
      ]
     },
     "execution_count": 10,
     "metadata": {},
     "output_type": "execute_result"
    }
   ],
   "source": [
    "np.var(x)"
   ]
  },
  {
   "cell_type": "code",
   "execution_count": 11,
   "metadata": {},
   "outputs": [
    {
     "data": {
      "text/plain": [
       "8.683453625367347"
      ]
     },
     "execution_count": 11,
     "metadata": {},
     "output_type": "execute_result"
    }
   ],
   "source": [
    "np.std(x)"
   ]
  },
  {
   "cell_type": "code",
   "execution_count": 12,
   "metadata": {},
   "outputs": [
    {
     "data": {
      "text/plain": [
       "23"
      ]
     },
     "execution_count": 12,
     "metadata": {},
     "output_type": "execute_result"
    }
   ],
   "source": [
    "np.max(x)"
   ]
  },
  {
   "cell_type": "code",
   "execution_count": 13,
   "metadata": {},
   "outputs": [
    {
     "data": {
      "text/plain": [
       "-13"
      ]
     },
     "execution_count": 13,
     "metadata": {},
     "output_type": "execute_result"
    }
   ],
   "source": [
    "np.min(x)"
   ]
  },
  {
   "cell_type": "code",
   "execution_count": 14,
   "metadata": {},
   "outputs": [
    {
     "data": {
      "text/plain": [
       "5.0"
      ]
     },
     "execution_count": 14,
     "metadata": {},
     "output_type": "execute_result"
    }
   ],
   "source": [
    "np.median(x)"
   ]
  },
  {
   "cell_type": "code",
   "execution_count": 16,
   "metadata": {},
   "outputs": [
    {
     "data": {
      "text/plain": [
       "-13.0"
      ]
     },
     "execution_count": 16,
     "metadata": {},
     "output_type": "execute_result"
    }
   ],
   "source": [
    "np.percentile(x,0) # 최솟값"
   ]
  },
  {
   "cell_type": "code",
   "execution_count": 18,
   "metadata": {},
   "outputs": [
    {
     "data": {
      "text/plain": [
       "2.0"
      ]
     },
     "execution_count": 18,
     "metadata": {},
     "output_type": "execute_result"
    }
   ],
   "source": [
    "np.percentile(x,25) # 1사분위"
   ]
  },
  {
   "cell_type": "code",
   "execution_count": 19,
   "metadata": {},
   "outputs": [
    {
     "data": {
      "text/plain": [
       "10.0"
      ]
     },
     "execution_count": 19,
     "metadata": {},
     "output_type": "execute_result"
    }
   ],
   "source": [
    "np.percentile(x,75) # 3사분위수"
   ]
  },
  {
   "cell_type": "markdown",
   "metadata": {},
   "source": [
    "- random 서브 패키지에서 난수를 발생시키는 함수 제공"
   ]
  },
  {
   "cell_type": "code",
   "execution_count": 20,
   "metadata": {},
   "outputs": [],
   "source": [
    "# seed 지정 -> 난수 생성 시 같은 값 추출\n",
    "np.random.seed(0)"
   ]
  },
  {
   "cell_type": "code",
   "execution_count": 21,
   "metadata": {
    "scrolled": true
   },
   "outputs": [
    {
     "data": {
      "text/plain": [
       "array([0.5488135 , 0.71518937, 0.60276338, 0.54488318, 0.4236548 ])"
      ]
     },
     "execution_count": 21,
     "metadata": {},
     "output_type": "execute_result"
    }
   ],
   "source": [
    "np.random.rand(5) # 0과 1 사이의 5개의 난수발생"
   ]
  },
  {
   "cell_type": "markdown",
   "metadata": {},
   "source": [
    "- 데이터 샘플링\n",
    "- choice(ary, size, replace, p)\n",
    "- replace = T : 복원추출"
   ]
  },
  {
   "cell_type": "code",
   "execution_count": 32,
   "metadata": {},
   "outputs": [
    {
     "data": {
      "text/plain": [
       "array([2, 4, 2, 0, 0])"
      ]
     },
     "execution_count": 32,
     "metadata": {},
     "output_type": "execute_result"
    }
   ],
   "source": [
    "np.random.choice(5,5,replace=True) # 배열 대신 숫자 입력 시 arange와 동일한 기능"
   ]
  },
  {
   "cell_type": "code",
   "execution_count": 34,
   "metadata": {},
   "outputs": [
    {
     "data": {
      "text/plain": [
       "array([ 1.29269823, -0.73145824, -1.60540226,  0.98947618,  0.11081461,\n",
       "       -0.38093141,  0.11495917,  0.34531264, -1.73495876,  1.65835111])"
      ]
     },
     "execution_count": 34,
     "metadata": {},
     "output_type": "execute_result"
    }
   ],
   "source": [
    "np.random.randn(10) # 정규분포 / 벡터 형태로 출력"
   ]
  },
  {
   "cell_type": "code",
   "execution_count": 35,
   "metadata": {},
   "outputs": [],
   "source": [
    "import matplotlib.pyplot as plt"
   ]
  },
  {
   "cell_type": "code",
   "execution_count": 41,
   "metadata": {},
   "outputs": [
    {
     "data": {
      "text/plain": [
       "array([[-0.82086383, -1.49333996,  0.52417595,  0.34511317,  0.72437468],\n",
       "       [-2.04038084, -1.0797781 , -0.69342441, -2.33804615,  1.66226234],\n",
       "       [-0.27535274, -0.74657045,  1.22510346, -0.11043246, -1.27348939]])"
      ]
     },
     "execution_count": 41,
     "metadata": {},
     "output_type": "execute_result"
    }
   ],
   "source": [
    "datasets = np.random.randn(3,5) # 행렬로 출력\n",
    "datasets"
   ]
  },
  {
   "cell_type": "code",
   "execution_count": 42,
   "metadata": {},
   "outputs": [
    {
     "data": {
      "image/png": "[encoded data removed]",
      "text/plain": [
       "<Figure size 432x288 with 1 Axes>"
      ]
     },
     "metadata": {
      "needs_background": "light"
     },
     "output_type": "display_data"
    }
   ],
   "source": [
    "plt.hist(datasets)\n",
    "plt.show()"
   ]
  },
  {
   "cell_type": "markdown",
   "metadata": {},
   "source": [
    "- randint(low, high, size)"
   ]
  },
  {
   "cell_type": "code",
   "execution_count": 47,
   "metadata": {},
   "outputs": [
    {
     "data": {
      "text/plain": [
       "array([13, 18, 18, 14, 14, 10, 19, 13, 17, 13])"
      ]
     },
     "execution_count": 47,
     "metadata": {},
     "output_type": "execute_result"
    }
   ],
   "source": [
    "np.random.randint(10,20,size=10) # 벡터"
   ]
  },
  {
   "cell_type": "code",
   "execution_count": 48,
   "metadata": {},
   "outputs": [
    {
     "data": {
      "text/plain": [
       "array([[12, 11, 11, 12, 11],\n",
       "       [14, 12, 15, 15, 15],\n",
       "       [12, 15, 17, 17, 16]])"
      ]
     },
     "execution_count": 48,
     "metadata": {},
     "output_type": "execute_result"
    }
   ],
   "source": [
    "np.random.randint(10,20,size=(3,5)) # 행렬"
   ]
  },
  {
   "cell_type": "code",
   "execution_count": 49,
   "metadata": {},
   "outputs": [
    {
     "data": {
      "text/plain": [
       "array([10, 12, 13])"
      ]
     },
     "execution_count": 49,
     "metadata": {},
     "output_type": "execute_result"
    }
   ],
   "source": [
    "np.unique([12,10,13,12,10]) # 중복값 제외"
   ]
  },
  {
   "cell_type": "code",
   "execution_count": 50,
   "metadata": {},
   "outputs": [
    {
     "data": {
      "text/plain": [
       "array(['a', 'b', 'b', 'c', 'a', 'c', 'c'], dtype='<U1')"
      ]
     },
     "execution_count": 50,
     "metadata": {},
     "output_type": "execute_result"
    }
   ],
   "source": [
    "ary_unique = np.array(['a','b','b','c','a','c','c'])\n",
    "ary_unique"
   ]
  },
  {
   "cell_type": "code",
   "execution_count": 52,
   "metadata": {},
   "outputs": [],
   "source": [
    "(value, cnt) = np.unique(ary_unique,return_counts=True) # return_counts=True : 빈도수 출력"
   ]
  },
  {
   "cell_type": "code",
   "execution_count": 53,
   "metadata": {},
   "outputs": [
    {
     "name": "stdout",
     "output_type": "stream",
     "text": [
      "['a' 'b' 'c']\n",
      "[2 2 3]\n"
     ]
    }
   ],
   "source": [
    "print(value)\n",
    "print(cnt)"
   ]
  },
  {
   "cell_type": "markdown",
   "metadata": {},
   "source": [
    "1. 동전을 10번 던져 앞면(숫자 1)과 뒷면(숫자 0)이 나오는 가상 실험을 파이썬으로 작성한다.\n",
    "2. 주사위를 100번 던져서 나오는 숫자의 평균을 구하라.\n",
    "3. 가격이 10,000원인 주식이 있다. \n",
    "이 주식의 일간 수익률(%)은 기댓값이 0%이고 표준편차가 1%인 표준 정규 분포를 따른다고 하자. \n",
    "250일 동안의 주가를 무작위로 생성하라"
   ]
  },
  {
   "cell_type": "code",
   "execution_count": 75,
   "metadata": {},
   "outputs": [
    {
     "name": "stdout",
     "output_type": "stream",
     "text": [
      "[1 0 0 0 0 1 1 0 1 1]\n"
     ]
    }
   ],
   "source": [
    "x = np.random.randint(0,2,size=10)\n",
    "print(x)"
   ]
  },
  {
   "cell_type": "code",
   "execution_count": 82,
   "metadata": {},
   "outputs": [
    {
     "name": "stdout",
     "output_type": "stream",
     "text": [
      "3.41\n"
     ]
    }
   ],
   "source": [
    "y = np.random.randint(1,7,size=100)\n",
    "print(np.mean(y))"
   ]
  },
  {
   "cell_type": "code",
   "execution_count": 74,
   "metadata": {},
   "outputs": [
    {
     "name": "stdout",
     "output_type": "stream",
     "text": [
      "[-1.27109064  0.17613707 -0.29621638  0.32692882 -0.97341942  0.227681\n",
      " -0.81932804  0.10722255  0.97527763  0.08197388 -0.47662253 -1.49217154\n",
      " -0.40346495  0.69477827  0.2121528   0.09098984 -1.54885465 -0.04482736\n",
      "  1.55676333  1.94711068 -0.78514011 -2.13921194 -1.26425853  0.29498718\n",
      "  0.80648927  0.27767032 -1.24384504  0.78727437  0.75203041  0.17298001\n",
      " -0.73783565  0.96919093 -0.64637056  1.81109463 -0.99044486 -1.36911291\n",
      "  0.07248481  0.40832729  0.1687738  -0.58670124 -1.51733757  0.72040884\n",
      " -2.14986374 -1.23310196 -0.12122475  0.68214936  1.26832604 -0.02907836\n",
      " -0.80203131  0.67907827 -1.04111161  0.93386042  0.34352489  1.78771666\n",
      "  0.48640788  0.46039938 -0.83387849  0.04040953 -0.09290729 -0.75064297\n",
      " -0.37392144  0.3453563   0.49987149 -1.1674225  -0.38700182 -0.96593647\n",
      " -2.36935061  1.11943353  1.14754071  1.1925147   0.41127294  0.62608869\n",
      "  0.04526669  0.96049828 -0.29280139  0.01127911  0.80587441 -0.866476\n",
      " -1.04311829  0.57402145  1.07180389 -0.32848638 -0.38128694  0.43285888\n",
      " -1.85676958  0.40907527 -2.19006338  2.6135831   1.00517651  0.86358165\n",
      "  1.24250273  1.2676498  -1.70135138  0.67964854  0.56041301 -2.567103\n",
      "  0.63869907 -0.66318587  1.51255843  0.21451128  0.06944245  0.49807934\n",
      " -0.50392124 -0.7710644   1.3924703  -0.73915102 -0.13088607  0.74360133\n",
      " -0.38177041 -0.15789323  2.39360098  0.71233502  0.16225767  1.06413219\n",
      " -1.14560502 -1.0620317   0.24752527 -0.17114712 -0.41134637  0.66517636\n",
      " -0.23556621  0.35023824 -0.50298515  0.6447545  -1.10529357 -1.44687273\n",
      " -0.33710357 -2.05037194 -2.53872659 -0.15140852  0.08488041 -0.84015116\n",
      " -0.55450343  1.23501393 -0.42656076  0.10618541  2.22671808 -0.82791179\n",
      "  0.25160955 -2.24822968  0.99198288 -0.73707803 -0.558757    1.80105352\n",
      " -0.59254827  1.437978   -0.58272892  0.34242639 -0.0104429  -0.33116851\n",
      " -1.05282571  0.4663099  -1.01955301 -2.16316654  1.00303191  0.22364199\n",
      " -0.7939134  -0.40554117  3.33841448  1.02132371 -1.15655731 -0.78812564\n",
      "  0.24182197  1.21941885  0.2670234  -0.45518952 -0.84344908  0.18270622\n",
      " -0.19575788 -0.18146844  0.69944175  0.82210542  0.82520816 -0.91979543\n",
      "  0.10975853 -0.48169568 -1.33227151 -0.8425179  -0.25638407 -0.98936082\n",
      "  0.23241264 -1.08201384 -1.22124453 -0.19978475 -0.79986276 -0.3437464\n",
      " -1.77942553  0.55883673 -0.48467389 -2.2414171  -0.08392845 -1.17251453\n",
      "  0.70143665  2.68480631 -0.39499378  0.64425307  1.37403257  0.74054585\n",
      " -0.1442663  -0.78763536  0.54185194  1.04437761 -1.15035303 -0.29625068\n",
      "  0.28078149  0.48534322 -0.49456329  0.82947036 -1.38529458  0.08023614\n",
      "  0.19249027 -0.23734544  0.34008256  1.21250275  1.63380824 -0.26366898\n",
      "  0.47894928 -2.69820081  1.28203021 -1.75899456 -0.42248424  1.00253326\n",
      "  1.01458636  0.66755873  0.33166904 -2.36718535  0.83527222 -1.34672473\n",
      "  1.53183131  0.82786241  0.76621501  0.9067789  -1.12176907  0.26494724\n",
      " -1.35740297  1.65836237  0.87909093 -0.19882754  0.43318015  0.53227666\n",
      "  1.48155277 -0.92486084 -0.81167173  1.08056738 -0.19134102 -0.12551712\n",
      " -0.63719712 -0.04502934  1.3060156  -0.8634364 ]\n"
     ]
    }
   ],
   "source": [
    "# 다시 풀기\n",
    "np.random.seed(10000)\n",
    "z = np.random.randn(250) \n",
    "print(z)"
   ]
  }
 ],
 "metadata": {
  "kernelspec": {
   "display_name": "Python 3",
   "language": "python",
   "name": "python3"
  },
  "language_info": {
   "codemirror_mode": {
    "name": "ipython",
    "version": 3
   },
   "file_extension": ".py",
   "mimetype": "text/x-python",
   "name": "python",
   "nbconvert_exporter": "python",
   "pygments_lexer": "ipython3",
   "version": "3.8.5"
  }
 },
 "nbformat": 4,
 "nbformat_minor": 4
}
