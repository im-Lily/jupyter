{
 "cells": [
  {
   "cell_type": "code",
   "execution_count": 1,
   "metadata": {},
   "outputs": [],
   "source": [
    "import numpy as np"
   ]
  },
  {
   "cell_type": "markdown",
   "metadata": {},
   "source": [
    "### [실습 01]"
   ]
  },
  {
   "cell_type": "code",
   "execution_count": 2,
   "metadata": {},
   "outputs": [],
   "source": [
    "data = np.loadtxt('./data/ratings.dat' , delimiter = \"::\", dtype=np.int64)"
   ]
  },
  {
   "cell_type": "code",
   "execution_count": 3,
   "metadata": {},
   "outputs": [],
   "source": [
    "def aryInfo(arr) :\n",
    "    print('type : {}'.format(type(arr)))\n",
    "    print('shape : {}, dimension : {}, dtype : {}'.format(arr.shape, arr.ndim, arr.dtype))\n",
    "    print(\"Array's Data : \\n\", arr)"
   ]
  },
  {
   "cell_type": "code",
   "execution_count": 4,
   "metadata": {},
   "outputs": [
    {
     "data": {
      "text/plain": [
       "array([[        1,      1193,         5, 978300760],\n",
       "       [        1,       661,         3, 978302109],\n",
       "       [        1,       914,         3, 978301968],\n",
       "       [        1,      3408,         4, 978300275],\n",
       "       [        1,      2355,         5, 978824291]], dtype=int64)"
      ]
     },
     "execution_count": 4,
     "metadata": {},
     "output_type": "execute_result"
    }
   ],
   "source": [
    "data[:5,:]"
   ]
  },
  {
   "cell_type": "code",
   "execution_count": 5,
   "metadata": {},
   "outputs": [
    {
     "name": "stdout",
     "output_type": "stream",
     "text": [
      "type : <class 'numpy.ndarray'>\n",
      "shape : (1000209, 4), dimension : 2, dtype : int64\n",
      "Array's Data : \n",
      " [[        1      1193         5 978300760]\n",
      " [        1       661         3 978302109]\n",
      " [        1       914         3 978301968]\n",
      " ...\n",
      " [     6040       562         5 956704746]\n",
      " [     6040      1096         4 956715648]\n",
      " [     6040      1097         4 956715569]]\n"
     ]
    }
   ],
   "source": [
    "aryInfo(data)"
   ]
  },
  {
   "cell_type": "code",
   "execution_count": 6,
   "metadata": {},
   "outputs": [
    {
     "data": {
      "text/plain": [
       "3.581564453029317"
      ]
     },
     "execution_count": 6,
     "metadata": {},
     "output_type": "execute_result"
    }
   ],
   "source": [
    "data[:,2].mean()"
   ]
  },
  {
   "cell_type": "code",
   "execution_count": 7,
   "metadata": {},
   "outputs": [
    {
     "name": "stdout",
     "output_type": "stream",
     "text": [
      "[   1    2    3 ... 6038 6039 6040]\n"
     ]
    }
   ],
   "source": [
    "user_ids = np.unique(data[:,0])\n",
    "print(user_ids)"
   ]
  },
  {
   "cell_type": "code",
   "execution_count": 13,
   "metadata": {},
   "outputs": [],
   "source": [
    "data_list = []\n",
    "for user_id in user_ids :\n",
    "    user = data[data[:,0]==user_id,:]\n",
    "    user_rating = user[:,2].mean()\n",
    "    data_list.append([user_id,user_rating])    "
   ]
  },
  {
   "cell_type": "code",
   "execution_count": 21,
   "metadata": {},
   "outputs": [
    {
     "name": "stdout",
     "output_type": "stream",
     "text": [
      "type : <class 'numpy.ndarray'>\n",
      "shape : (6040, 2), dimension : 2, dtype : float64\n",
      "Array's Data : \n",
      " [[1.00000000e+00 4.18867925e+00]\n",
      " [2.00000000e+00 3.71317829e+00]\n",
      " [3.00000000e+00 3.90196078e+00]\n",
      " ...\n",
      " [6.03800000e+03 3.80000000e+00]\n",
      " [6.03900000e+03 3.87804878e+00]\n",
      " [6.04000000e+03 3.57771261e+00]]\n"
     ]
    }
   ],
   "source": [
    "user_rating = np.array(data_list) \n",
    "aryInfo(user_rating)"
   ]
  },
  {
   "cell_type": "code",
   "execution_count": 23,
   "metadata": {},
   "outputs": [
    {
     "name": "stdout",
     "output_type": "stream",
     "text": [
      "type : <class 'numpy.ndarray'>\n",
      "shape : (1544, 2), dimension : 2, dtype : float64\n",
      "Array's Data : \n",
      " [[1.00000000e+00 4.18867925e+00]\n",
      " [4.00000000e+00 4.19047619e+00]\n",
      " [7.00000000e+00 4.32258065e+00]\n",
      " ...\n",
      " [6.02700000e+03 4.25000000e+00]\n",
      " [6.03200000e+03 4.13461538e+00]\n",
      " [6.03400000e+03 4.09523810e+00]]\n"
     ]
    }
   ],
   "source": [
    "high_rating = user_rating[user_rating[:,1]>=4]\n",
    "aryInfo(high_rating)"
   ]
  },
  {
   "cell_type": "code",
   "execution_count": 26,
   "metadata": {},
   "outputs": [],
   "source": [
    "np.savetxt('high_rating.csv',high_rating,fmt='%.1f',delimiter=',')"
   ]
  },
  {
   "cell_type": "markdown",
   "metadata": {},
   "source": [
    "### [실습 02]"
   ]
  },
  {
   "cell_type": "code",
   "execution_count": 159,
   "metadata": {},
   "outputs": [
    {
     "name": "stdout",
     "output_type": "stream",
     "text": [
      "type : <class 'numpy.ndarray'>\n",
      "shape : (40819, 5), dimension : 2, dtype : object\n",
      "Array's Data : \n",
      " [['1907-10-01' '108' '13.5' '7.9' '20.7']\n",
      " ['1907-10-02' '108' '16.2' '7.9' '22']\n",
      " ['1907-10-03' '108' '16.2' '13.1' '21.3']\n",
      " ...\n",
      " ['2020-09-04' '108' '23.3' '19.9' '27.5']\n",
      " ['2020-09-05' '108' '23.3' '19.2' '27.3']\n",
      " ['2020-09-06' '108' '21.7' '19.5' '24.4']]\n",
      "type : <class 'numpy.ndarray'>\n",
      "shape : (41493, 5), dimension : 2, dtype : object\n",
      "Array's Data : \n",
      " [['1907-01-31' '143' '' '-7' '0.8']\n",
      " ['1907-02-01' '143' '' '' '']\n",
      " ['1907-02-02' '143' '' '' '']\n",
      " ...\n",
      " ['2020-09-04' '143' '24.1' '18.3' '30.4']\n",
      " ['2020-09-05' '143' '19.9' '17.3' '23.1']\n",
      " ['2020-09-06' '143' '19.5' '17.6' '20.7']]\n"
     ]
    }
   ],
   "source": [
    "seoul_data = np.loadtxt('./data/seoul.csv',delimiter=',',dtype=np.object,skiprows=1)\n",
    "aryInfo(seoul_data)\n",
    "daegu_data = np.loadtxt('./data/daegu.csv',delimiter=',',dtype=np.object,skiprows=1)\n",
    "aryInfo(daegu_data)"
   ]
  },
  {
   "cell_type": "code",
   "execution_count": 182,
   "metadata": {},
   "outputs": [
    {
     "name": "stdout",
     "output_type": "stream",
     "text": [
      "type : <class 'numpy.ndarray'>\n",
      "shape : (40819,), dimension : 1, dtype : object\n",
      "Array's Data : \n",
      " ['20.7' '22' '21.3' ... '27.5' '27.3' '24.4']\n",
      "type : <class 'numpy.ndarray'>\n",
      "shape : (40061,), dimension : 1, dtype : float64\n",
      "Array's Data : \n",
      " [20.7 22.  21.3 ... 27.5 27.3 24.4]\n",
      "서울 최고 기온 : 39.6, 기온이 가장 높았던 날 : ['2018-08-01']\n"
     ]
    }
   ],
   "source": [
    "high_temp_seoul = seoul_data[:,4]\n",
    "aryInfo(high_temp_seoul)\n",
    "# 객체 타입 '' (결측값 의미) -> 결측값 제거 후 실수형 변환\n",
    "high_temp = high_temp_seoul[high_temp_seoul!=''].astype(np.float64)\n",
    "aryInfo(high_temp)\n",
    "high_temp_max = high_temp.max()\n",
    "# print(high_temp_max)\n",
    "high_temp_date = seoul_data[:,0][high_temp_seoul==str(high_temp_max)]\n",
    "# print(high_temp_date,type(high_temp_date))\n",
    "print('서울 최고 기온 : {}, 기온이 가장 높았던 날 : {}'.format(high_temp_max,high_temp_date))"
   ]
  },
  {
   "cell_type": "code",
   "execution_count": 185,
   "metadata": {},
   "outputs": [
    {
     "name": "stdout",
     "output_type": "stream",
     "text": [
      "type : <class 'numpy.ndarray'>\n",
      "shape : (40819,), dimension : 1, dtype : object\n",
      "Array's Data : \n",
      " ['7.9' '7.9' '13.1' ... '19.9' '19.2' '19.5']\n"
     ]
    }
   ],
   "source": [
    "low_temp_seoul = seoul_data[:,3]\n",
    "aryInfo(low_temp_seoul)\n",
    "# 객체 타입 -> 실수형 변환\n",
    "# 의문) 행의 개수가 다르게 출력되는 이유?\n",
    "# low_temp = low_temp_seoul[low_temp_seoul!=''].astype(np.float64)\n",
    "# aryInfo(low_temp)"
   ]
  },
  {
   "cell_type": "code",
   "execution_count": 189,
   "metadata": {},
   "outputs": [
    {
     "name": "stdout",
     "output_type": "stream",
     "text": [
      "0\n"
     ]
    }
   ],
   "source": [
    "# 결측값 처리\n",
    "a = 0\n",
    "for i in range(seoul_data.shape[0]) :\n",
    "    for j in range(seoul_data.shape[1]) :\n",
    "        if seoul_data[i][j] == '':\n",
    "            seoul_data[i][j] = np.nan\n",
    "            a +=1\n",
    "print(a)"
   ]
  },
  {
   "cell_type": "code",
   "execution_count": 192,
   "metadata": {},
   "outputs": [
    {
     "name": "stdout",
     "output_type": "stream",
     "text": [
      "type : <class 'numpy.ndarray'>\n",
      "shape : (40819, 3), dimension : 2, dtype : float64\n",
      "Array's Data : \n",
      " [[13.5  7.9 20.7]\n",
      " [16.2  7.9 22. ]\n",
      " [16.2 13.1 21.3]\n",
      " ...\n",
      " [23.3 19.9 27.5]\n",
      " [23.3 19.2 27.3]\n",
      " [21.7 19.5 24.4]]\n"
     ]
    }
   ],
   "source": [
    "seoul_temp = seoul_data[:,2:].astype(np.float)\n",
    "aryInfo(seoul_temp)"
   ]
  },
  {
   "cell_type": "code",
   "execution_count": 193,
   "metadata": {},
   "outputs": [
    {
     "name": "stdout",
     "output_type": "stream",
     "text": [
      "type : <class 'numpy.ndarray'>\n",
      "shape : (40819, 8), dimension : 2, dtype : object\n",
      "Array's Data : \n",
      " [['1907-10-01' '108' '13.5' ... 13.5 7.9 20.7]\n",
      " ['1907-10-02' '108' '16.2' ... 16.2 7.9 22.0]\n",
      " ['1907-10-03' '108' '16.2' ... 16.2 13.1 21.3]\n",
      " ...\n",
      " ['2020-09-04' '108' '23.3' ... 23.3 19.9 27.5]\n",
      " ['2020-09-05' '108' '23.3' ... 23.3 19.2 27.3]\n",
      " ['2020-09-06' '108' '21.7' ... 21.7 19.5 24.4]]\n"
     ]
    }
   ],
   "source": [
    "temp = np.hstack([seoul_data,seoul_temp])\n",
    "aryInfo(temp)"
   ]
  },
  {
   "cell_type": "code",
   "execution_count": 216,
   "metadata": {},
   "outputs": [
    {
     "name": "stdout",
     "output_type": "stream",
     "text": [
      "1942-04-19\n"
     ]
    }
   ],
   "source": [
    "diff_temp = seoul_data[(temp[:,-1] - temp[:,-2,]).argmax()]\n",
    "print(diff_temp[0])"
   ]
  },
  {
   "cell_type": "code",
   "execution_count": 256,
   "metadata": {},
   "outputs": [
    {
     "name": "stdout",
     "output_type": "stream",
     "text": [
      "type : <class 'numpy.ndarray'>\n",
      "shape : (40819,), dimension : 1, dtype : datetime64[M]\n",
      "Array's Data : \n",
      " ['1907-10' '1907-10' '1907-10' ... '2020-09' '2020-09' '2020-09']\n"
     ]
    }
   ],
   "source": [
    "date = np.array(seoul_data[:,0], dtype='datetime64[M]')\n",
    "aryInfo(date)"
   ]
  }
 ],
 "metadata": {
  "kernelspec": {
   "display_name": "Python 3",
   "language": "python",
   "name": "python3"
  },
  "language_info": {
   "codemirror_mode": {
    "name": "ipython",
    "version": 3
   },
   "file_extension": ".py",
   "mimetype": "text/x-python",
   "name": "python",
   "nbconvert_exporter": "python",
   "pygments_lexer": "ipython3",
   "version": "3.8.5"
  }
 },
 "nbformat": 4,
 "nbformat_minor": 4
}
