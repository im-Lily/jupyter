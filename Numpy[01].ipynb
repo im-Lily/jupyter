{
 "cells": [
  {
   "cell_type": "code",
   "execution_count": 2,
   "metadata": {},
   "outputs": [],
   "source": [
    "import numpy as np"
   ]
  },
  {
   "cell_type": "code",
   "execution_count": 99,
   "metadata": {},
   "outputs": [
    {
     "data": {
      "text/plain": [
       "'1.19.2'"
      ]
     },
     "execution_count": 99,
     "metadata": {},
     "output_type": "execute_result"
    }
   ],
   "source": [
    "# 버전확인\n",
    "np.__version__"
   ]
  },
  {
   "cell_type": "markdown",
   "metadata": {},
   "source": [
    "### 배열 자료구조 클래스인 ndarry - vector, matrix\n",
    "### 배열의 차원과 크기  - ndim, shpae"
   ]
  },
  {
   "cell_type": "code",
   "execution_count": 100,
   "metadata": {},
   "outputs": [],
   "source": [
    "def aryInfo(arr) :\n",
    "    print('type : {}'.format(type(arr)))\n",
    "    print('shape : {}, dimension : {}, dtype : {}'.format(arr.shape, arr.ndim, arr.dtype))\n",
    "    print(\"Array's Data : \\n\", arr)"
   ]
  },
  {
   "cell_type": "markdown",
   "metadata": {},
   "source": [
    "### 1차원 배열 만들기"
   ]
  },
  {
   "cell_type": "code",
   "execution_count": 102,
   "metadata": {},
   "outputs": [
    {
     "name": "stdout",
     "output_type": "stream",
     "text": [
      "[0 1 2 3 4 5 6 7 8 9]\n",
      "[0 1 2 3 4 5 6 7 8 9]\n"
     ]
    }
   ],
   "source": [
    "ary = np.array([0,1,2,3,4,5,6,7,8,9])\n",
    "print(ary)\n",
    "\n",
    "# 동일한 결과 출력\n",
    "ary = np.arange(0,10,1)\n",
    "print(ary)"
   ]
  },
  {
   "cell_type": "code",
   "execution_count": 103,
   "metadata": {},
   "outputs": [
    {
     "name": "stdout",
     "output_type": "stream",
     "text": [
      "type : <class 'numpy.ndarray'>\n",
      "shape : (10,), dimension : 1, dtype : int32\n",
      "Array's Data : \n",
      " [0 1 2 3 4 5 6 7 8 9]\n"
     ]
    }
   ],
   "source": [
    "aryInfo(ary)"
   ]
  },
  {
   "cell_type": "markdown",
   "metadata": {},
   "source": [
    "### Vectorized operation (벡터화 연산)"
   ]
  },
  {
   "cell_type": "code",
   "execution_count": 7,
   "metadata": {},
   "outputs": [
    {
     "data": {
      "text/plain": [
       "[0, 1, 2, 3, 4, 5, 6, 7, 8, 9, 0, 1, 2, 3, 4, 5, 6, 7, 8, 9]"
      ]
     },
     "execution_count": 7,
     "metadata": {},
     "output_type": "execute_result"
    }
   ],
   "source": [
    "# 일반적인 연산결과가 아님\n",
    "data = [0,1,2,3,4,5,6,7,8,9]\n",
    "data * 2"
   ]
  },
  {
   "cell_type": "code",
   "execution_count": 107,
   "metadata": {},
   "outputs": [
    {
     "name": "stdout",
     "output_type": "stream",
     "text": [
      "[2, 4, 6, 8, 10, 12, 14, 16, 18] <class 'list'>\n"
     ]
    }
   ],
   "source": [
    "# for\n",
    "answer = []\n",
    "for d in data :\n",
    "    answer.append(d*2)\n",
    "print(answer,type(answer))"
   ]
  },
  {
   "cell_type": "code",
   "execution_count": 106,
   "metadata": {},
   "outputs": [
    {
     "name": "stdout",
     "output_type": "stream",
     "text": [
      "[2, 4, 6, 8, 10, 12, 14, 16, 18] <class 'list'>\n"
     ]
    }
   ],
   "source": [
    "# list comprehension\n",
    "data2 = [d*2 for d in data]\n",
    "print(data2, type(data2))"
   ]
  },
  {
   "cell_type": "code",
   "execution_count": 109,
   "metadata": {},
   "outputs": [
    {
     "name": "stdout",
     "output_type": "stream",
     "text": [
      "type : <class 'numpy.ndarray'>\n",
      "shape : (9,), dimension : 1, dtype : int32\n",
      "Array's Data : \n",
      " [1 2 3 4 5 6 7 8 9]\n"
     ]
    }
   ],
   "source": [
    "# for / list comprehension 사용하지 않고 빠르게 연산수행 -> type : list\n",
    "# type : ndarray\n",
    "x = np.array(data)\n",
    "x * 2\n",
    "aryInfo(x)"
   ]
  },
  {
   "cell_type": "markdown",
   "metadata": {},
   "source": [
    "### 비교연산, 논리연산"
   ]
  },
  {
   "cell_type": "code",
   "execution_count": 122,
   "metadata": {},
   "outputs": [
    {
     "name": "stdout",
     "output_type": "stream",
     "text": [
      "[21 42 63]\n",
      "[21 42 63]\n",
      "[21 42 63]\n"
     ]
    }
   ],
   "source": [
    "oneAry = np.array([1,2,3])\n",
    "twoAry = np.array([10,20,30])\n",
    "# 괄호로 묶어도 결과 달라지지 않음 / 왜?\n",
    "print(oneAry + twoAry *2)\n",
    "print(oneAry + (twoAry*2))\n",
    "print(2 * twoAry + oneAry)"
   ]
  },
  {
   "cell_type": "code",
   "execution_count": 12,
   "metadata": {},
   "outputs": [
    {
     "data": {
      "text/plain": [
       "array([False,  True, False])"
      ]
     },
     "execution_count": 12,
     "metadata": {},
     "output_type": "execute_result"
    }
   ],
   "source": [
    "oneAry == 2"
   ]
  },
  {
   "cell_type": "code",
   "execution_count": 13,
   "metadata": {},
   "outputs": [
    {
     "data": {
      "text/plain": [
       "array([False,  True,  True])"
      ]
     },
     "execution_count": 13,
     "metadata": {},
     "output_type": "execute_result"
    }
   ],
   "source": [
    "twoAry > 10"
   ]
  },
  {
   "cell_type": "code",
   "execution_count": 14,
   "metadata": {},
   "outputs": [
    {
     "data": {
      "text/plain": [
       "array([False,  True, False])"
      ]
     },
     "execution_count": 14,
     "metadata": {},
     "output_type": "execute_result"
    }
   ],
   "source": [
    "(oneAry == 2) & (twoAry > 10)"
   ]
  },
  {
   "cell_type": "markdown",
   "metadata": {},
   "source": [
    "### 2차원 배열(행렬, matrix)"
   ]
  },
  {
   "cell_type": "code",
   "execution_count": 115,
   "metadata": {},
   "outputs": [
    {
     "name": "stdout",
     "output_type": "stream",
     "text": [
      "type : <class 'numpy.ndarray'>\n",
      "shape : (2, 3), dimension : 2, dtype : int32\n",
      "Array's Data : \n",
      " [[0 1 2]\n",
      " [3 4 5]]\n"
     ]
    }
   ],
   "source": [
    "matrix = np.array([[0,1,2],[3,4,5]])\n",
    "aryInfo(matrix)"
   ]
  },
  {
   "cell_type": "code",
   "execution_count": 116,
   "metadata": {},
   "outputs": [
    {
     "name": "stdout",
     "output_type": "stream",
     "text": [
      "행의 갯수 :  2\n",
      "열의 갯수 :  3\n"
     ]
    }
   ],
   "source": [
    "print('행의 갯수 : ',len(matrix))\n",
    "print('열의 갯수 : ',len(matrix[1]))"
   ]
  },
  {
   "cell_type": "markdown",
   "metadata": {},
   "source": [
    "### 3차원 배열"
   ]
  },
  {
   "cell_type": "code",
   "execution_count": 17,
   "metadata": {},
   "outputs": [],
   "source": [
    "threeDimAry = np.array([[[1,2,3,4],\n",
    "                        [5,6,7,8],\n",
    "                        [9,10,11,12]],\n",
    "                       [[11,12,13,14],\n",
    "                       [15,16,17,18],\n",
    "                       [19,20,21,22]]])"
   ]
  },
  {
   "cell_type": "code",
   "execution_count": 18,
   "metadata": {},
   "outputs": [
    {
     "name": "stdout",
     "output_type": "stream",
     "text": [
      "type : <class 'numpy.ndarray'>\n",
      "shape : (2, 3, 4), dimension : 3, dtype : int32\n",
      "Array's Data : \n",
      " [[[ 1  2  3  4]\n",
      "  [ 5  6  7  8]\n",
      "  [ 9 10 11 12]]\n",
      "\n",
      " [[11 12 13 14]\n",
      "  [15 16 17 18]\n",
      "  [19 20 21 22]]]\n"
     ]
    }
   ],
   "source": [
    "aryInfo(threeDimAry)"
   ]
  },
  {
   "cell_type": "code",
   "execution_count": 19,
   "metadata": {},
   "outputs": [
    {
     "name": "stdout",
     "output_type": "stream",
     "text": [
      "2 3 4\n"
     ]
    }
   ],
   "source": [
    "# 깊이 : 2, 행 : 3, 열 : 4\n",
    "print(len(threeDimAry),len(threeDimAry[0]),len(threeDimAry[0][0]))"
   ]
  },
  {
   "cell_type": "code",
   "execution_count": 123,
   "metadata": {},
   "outputs": [
    {
     "name": "stdout",
     "output_type": "stream",
     "text": [
      "array ['100' 'hello' '3.14']\n",
      "type <class 'numpy.ndarray'>\n",
      "x.dtype <U11\n",
      "x[0] type <class 'numpy.str_'>\n",
      "100\n"
     ]
    }
   ],
   "source": [
    "# type : U11 - 문자형\n",
    "x = np.array([100,'hello',3.14])\n",
    "print('array {}'.format(x))\n",
    "print('type {}'.format(type(x)))\n",
    "print('x.dtype {}'.format(x.dtype))\n",
    "print('x[0] type {}'.format(type(x[0])))"
   ]
  },
  {
   "cell_type": "code",
   "execution_count": 21,
   "metadata": {},
   "outputs": [
    {
     "name": "stdout",
     "output_type": "stream",
     "text": [
      "type : <class 'numpy.ndarray'>\n",
      "shape : (6,), dimension : 1, dtype : int32\n",
      "Array's Data : \n",
      " [0 1 2 3 4 5]\n"
     ]
    }
   ],
   "source": [
    "# ndim : 배열의 차원\n",
    "# shape : 배열의 크기\n",
    "data = np.array([0,1,2,3,4,5])\n",
    "aryInfo(data)"
   ]
  },
  {
   "cell_type": "code",
   "execution_count": 22,
   "metadata": {},
   "outputs": [
    {
     "data": {
      "text/plain": [
       "2"
      ]
     },
     "execution_count": 22,
     "metadata": {},
     "output_type": "execute_result"
    }
   ],
   "source": [
    "data[2]"
   ]
  },
  {
   "cell_type": "code",
   "execution_count": 23,
   "metadata": {},
   "outputs": [
    {
     "data": {
      "text/plain": [
       "5"
      ]
     },
     "execution_count": 23,
     "metadata": {},
     "output_type": "execute_result"
    }
   ],
   "source": [
    "data[-1]"
   ]
  },
  {
   "cell_type": "code",
   "execution_count": 24,
   "metadata": {},
   "outputs": [
    {
     "name": "stdout",
     "output_type": "stream",
     "text": [
      "type : <class 'numpy.ndarray'>\n",
      "shape : (2, 3), dimension : 2, dtype : int32\n",
      "Array's Data : \n",
      " [[0 1 2]\n",
      " [3 4 5]]\n"
     ]
    }
   ],
   "source": [
    "matrix = np.array([[0,1,2],[3,4,5]])\n",
    "aryInfo(matrix)"
   ]
  },
  {
   "cell_type": "code",
   "execution_count": 25,
   "metadata": {},
   "outputs": [
    {
     "name": "stdout",
     "output_type": "stream",
     "text": [
      "4\n",
      "4\n"
     ]
    }
   ],
   "source": [
    "print(matrix[1][1])\n",
    "print(matrix[1,1])"
   ]
  },
  {
   "cell_type": "code",
   "execution_count": 26,
   "metadata": {},
   "outputs": [
    {
     "name": "stdout",
     "output_type": "stream",
     "text": [
      "5\n",
      "3\n"
     ]
    }
   ],
   "source": [
    "print(matrix[-1,-1])\n",
    "print(matrix[-1,-3])"
   ]
  },
  {
   "cell_type": "markdown",
   "metadata": {},
   "source": [
    "- 슬라이싱\n",
    "- 첫번째 행의 전체\n",
    "- 두번째 열의 전체\n",
    "- 두번째 행의 두번째 열부터 끝열까지"
   ]
  },
  {
   "cell_type": "code",
   "execution_count": 28,
   "metadata": {},
   "outputs": [
    {
     "name": "stdout",
     "output_type": "stream",
     "text": [
      "[[0 1 2]]\n",
      "[1 4]\n",
      "[4 5]\n"
     ]
    }
   ],
   "source": [
    "print(matrix[0:1])\n",
    "print(matrix[:,1]) \n",
    "print(matrix[1,1:]) "
   ]
  },
  {
   "cell_type": "code",
   "execution_count": 125,
   "metadata": {},
   "outputs": [],
   "source": [
    "m = np.array([[ 0,  1,  2,  3,  4],\n",
    "            [ 5,  6,  7,  8,  9],\n",
    "            [10, 11, 12, 13, 14]])"
   ]
  },
  {
   "cell_type": "code",
   "execution_count": 130,
   "metadata": {},
   "outputs": [
    {
     "name": "stdout",
     "output_type": "stream",
     "text": [
      "7\n",
      "14\n",
      "[6 7]\n",
      "[ 7 12]\n",
      "[[3 4]\n",
      " [8 9]]\n",
      "[[3 4]\n",
      " [8 9]]\n"
     ]
    }
   ],
   "source": [
    "# 값 7을 인덱싱하라\n",
    "print(m[1,2])\n",
    "# 값 14를 인덱싱하라\n",
    "print(m[-1,-1])\n",
    "# 배열 [6,7]을 슬라이싱하라\n",
    "print(m[1,1:3])\n",
    "# 배열 [7,12]을 슬라이싱하라\n",
    "print(m[1:,2])\n",
    "# 배열 [[3,4],[8,9]]를 슬라이싱하라\n",
    "print(m[:2,-2:])\n",
    "print(m[:2,3:])"
   ]
  },
  {
   "cell_type": "code",
   "execution_count": 31,
   "metadata": {},
   "outputs": [
    {
     "name": "stdout",
     "output_type": "stream",
     "text": [
      "type : <class 'numpy.ndarray'>\n",
      "shape : (10,), dimension : 1, dtype : int32\n",
      "Array's Data : \n",
      " [0 1 2 3 4 5 6 7 8 9]\n"
     ]
    }
   ],
   "source": [
    "# boolean indexing\n",
    "odd_even = np.array([0,1,2,3,4,5,6,7,8,9])\n",
    "idx = np.array([True,False,True,False,True,False,True,False,True,False])\n",
    "aryInfo(odd_even)"
   ]
  },
  {
   "cell_type": "code",
   "execution_count": 32,
   "metadata": {},
   "outputs": [
    {
     "data": {
      "text/plain": [
       "array([0, 2, 4, 6, 8])"
      ]
     },
     "execution_count": 32,
     "metadata": {},
     "output_type": "execute_result"
    }
   ],
   "source": [
    "# true만 출력\n",
    "odd_even[idx]"
   ]
  },
  {
   "cell_type": "code",
   "execution_count": 33,
   "metadata": {},
   "outputs": [
    {
     "data": {
      "text/plain": [
       "array([ True, False,  True, False,  True, False,  True, False,  True,\n",
       "       False])"
      ]
     },
     "execution_count": 33,
     "metadata": {},
     "output_type": "execute_result"
    }
   ],
   "source": [
    "# return : bool\n",
    "odd_even % 2 == 0"
   ]
  },
  {
   "cell_type": "code",
   "execution_count": 34,
   "metadata": {},
   "outputs": [
    {
     "data": {
      "text/plain": [
       "array([0, 2, 4, 6, 8])"
      ]
     },
     "execution_count": 34,
     "metadata": {},
     "output_type": "execute_result"
    }
   ],
   "source": [
    "# return : value\n",
    "odd_even[odd_even % 2 == 0]"
   ]
  },
  {
   "cell_type": "code",
   "execution_count": 35,
   "metadata": {},
   "outputs": [
    {
     "data": {
      "text/plain": [
       "array([1, 3, 5, 7, 9])"
      ]
     },
     "execution_count": 35,
     "metadata": {},
     "output_type": "execute_result"
    }
   ],
   "source": [
    "# fancing indexing - 길이의 제한없음\n",
    "data = np.array([1,2,3,4,5,6,7,8,9])\n",
    "idx = np.array([0,2,4,6,8]) # 인덱스의 번지를 의미\n",
    "data[idx]"
   ]
  },
  {
   "cell_type": "code",
   "execution_count": 36,
   "metadata": {},
   "outputs": [
    {
     "data": {
      "text/plain": [
       "array([1, 1, 1, 2, 2, 2, 3, 3, 3])"
      ]
     },
     "execution_count": 36,
     "metadata": {},
     "output_type": "execute_result"
    }
   ],
   "source": [
    "idx = np.array([0,0,0,1,1,1,2,2,2])\n",
    "data[idx]"
   ]
  },
  {
   "cell_type": "code",
   "execution_count": 37,
   "metadata": {},
   "outputs": [
    {
     "name": "stdout",
     "output_type": "stream",
     "text": [
      "type : <class 'numpy.ndarray'>\n",
      "shape : (3, 4), dimension : 2, dtype : int32\n",
      "Array's Data : \n",
      " [[ 1  2  3  4]\n",
      " [ 5  6  7  8]\n",
      " [ 9 10 11 12]]\n"
     ]
    }
   ],
   "source": [
    "n_dim_ary = np.array([[1,2,3,4],[5,6,7,8],[9,10,11,12]])\n",
    "aryInfo(n_dim_ary)"
   ]
  },
  {
   "cell_type": "code",
   "execution_count": 38,
   "metadata": {},
   "outputs": [
    {
     "data": {
      "text/plain": [
       "array([[ 1,  4],\n",
       "       [ 5,  8],\n",
       "       [ 9, 12]])"
      ]
     },
     "execution_count": 38,
     "metadata": {},
     "output_type": "execute_result"
    }
   ],
   "source": [
    "# 첫번째와 네번째 열만 출력\n",
    "n_dim_ary[:,[0,3]]"
   ]
  },
  {
   "cell_type": "code",
   "execution_count": 39,
   "metadata": {},
   "outputs": [
    {
     "data": {
      "text/plain": [
       "array([[ 1,  4],\n",
       "       [ 5,  8],\n",
       "       [ 9, 12]])"
      ]
     },
     "execution_count": 39,
     "metadata": {},
     "output_type": "execute_result"
    }
   ],
   "source": [
    "# boolean indexing\n",
    "n_dim_ary[:,[True,False,False,True]]"
   ]
  },
  {
   "cell_type": "code",
   "execution_count": 40,
   "metadata": {},
   "outputs": [
    {
     "data": {
      "text/plain": [
       "array([[ 9, 10, 11, 12],\n",
       "       [ 1,  2,  3,  4],\n",
       "       [ 5,  6,  7,  8]])"
      ]
     },
     "execution_count": 40,
     "metadata": {},
     "output_type": "execute_result"
    }
   ],
   "source": [
    "# 순서 다르게 출력\n",
    "n_dim_ary[[2,0,1],:]"
   ]
  },
  {
   "cell_type": "code",
   "execution_count": 41,
   "metadata": {},
   "outputs": [
    {
     "name": "stdout",
     "output_type": "stream",
     "text": [
      "type : <class 'numpy.ndarray'>\n",
      "shape : (20,), dimension : 1, dtype : int32\n",
      "Array's Data : \n",
      " [ 1  2  3  4  5  6  7  8  9 10 11 12 13 14 15 16 17 18 19 20]\n"
     ]
    }
   ],
   "source": [
    "x = np.array([1, 2, 3, 4, 5, 6, 7, 8, 9, 10,\n",
    "             11, 12, 13, 14, 15, 16, 17, 18, 19, 20])\n",
    "aryInfo(x)"
   ]
  },
  {
   "cell_type": "code",
   "execution_count": 42,
   "metadata": {},
   "outputs": [
    {
     "name": "stdout",
     "output_type": "stream",
     "text": [
      "[ 3  6  9 12 15 18]\n",
      "[ 1  5  9 13 17]\n",
      "[9] <class 'numpy.ndarray'>\n"
     ]
    }
   ],
   "source": [
    "# 3의 배수 찾기\n",
    "print(x[x % 3 == 0])\n",
    "# 4로 나누었을 때 나머지가 1인 수 찾기\n",
    "print(x[x % 4 == 1])\n",
    "# 3으로 나누면 나누어지고 4로 나누면 나머지가 1인 수 찾기\n",
    "print(x[(x % 3 == 0) & (x % 4 == 1)],type(x[(x % 3 == 0) & (x % 4 == 1)]))"
   ]
  },
  {
   "cell_type": "markdown",
   "metadata": {},
   "source": [
    "### 배열의 생성과 변형"
   ]
  },
  {
   "cell_type": "code",
   "execution_count": 132,
   "metadata": {},
   "outputs": [
    {
     "name": "stdout",
     "output_type": "stream",
     "text": [
      "type : <class 'numpy.ndarray'>\n",
      "shape : (12,), dimension : 1, dtype : int32\n",
      "Array's Data : \n",
      " [ 0  1  2  3  4  5  6  7  8  9 10 11]\n",
      "type : <class 'numpy.ndarray'>\n",
      "shape : (3, 4), dimension : 2, dtype : int32\n",
      "Array's Data : \n",
      " [[ 0  1  2  3]\n",
      " [ 4  5  6  7]\n",
      " [ 8  9 10 11]]\n"
     ]
    }
   ],
   "source": [
    "ary = np.arange(0,12,1)\n",
    "aryInfo(ary)\n",
    "# reshape : 배열의 크기 변형\n",
    "ary = np.arange(0,12,1).reshape(3,4)\n",
    "aryInfo(ary)"
   ]
  },
  {
   "cell_type": "code",
   "execution_count": 44,
   "metadata": {},
   "outputs": [
    {
     "name": "stdout",
     "output_type": "stream",
     "text": [
      "10 <class 'numpy.int32'>\n",
      "6 <class 'numpy.int32'>\n",
      "[6] <class 'numpy.ndarray'>\n",
      "[[5]] <class 'numpy.ndarray'>\n",
      "[[ 0  2]\n",
      " [ 4  6]\n",
      " [ 8 10]] <class 'numpy.ndarray'>\n"
     ]
    }
   ],
   "source": [
    "print(ary[2,2],type(ary[2,2]))\n",
    "print(ary[1,2],type(ary[1,2]))\n",
    "print(ary[1:2,2],type(ary[1:2,2]))\n",
    "print(ary[1:2,1:2],type(ary[1,2:1:2]))\n",
    "print(ary[:,[0,2]],type(ary[:,[0,2]]))"
   ]
  },
  {
   "cell_type": "markdown",
   "metadata": {},
   "source": [
    "- Vector(1차원 - 배열) - pandas(Series)\n",
    "- Matrix(N차원 - 행렬) - pandas(DataFrame)"
   ]
  },
  {
   "cell_type": "code",
   "execution_count": 45,
   "metadata": {},
   "outputs": [
    {
     "name": "stdout",
     "output_type": "stream",
     "text": [
      "type : <class 'numpy.ndarray'>\n",
      "shape : (2,), dimension : 1, dtype : int32\n",
      "Array's Data : \n",
      " [ 2 10]\n",
      "type : <class 'numpy.ndarray'>\n",
      "shape : (2, 1), dimension : 2, dtype : int32\n",
      "Array's Data : \n",
      " [[ 2]\n",
      " [10]]\n"
     ]
    }
   ],
   "source": [
    "aryInfo(ary[[0,2],2]) # 벡터\n",
    "aryInfo(ary[[0,2],2:3]) # 행렬"
   ]
  },
  {
   "cell_type": "code",
   "execution_count": 46,
   "metadata": {},
   "outputs": [
    {
     "name": "stdout",
     "output_type": "stream",
     "text": [
      "type : <class 'numpy.ndarray'>\n",
      "shape : (2,), dimension : 1, dtype : int32\n",
      "Array's Data : \n",
      " [ 0 10]\n",
      "np.ix_()--->\n",
      "type : <class 'numpy.ndarray'>\n",
      "shape : (2, 2), dimension : 2, dtype : int32\n",
      "Array's Data : \n",
      " [[ 0  2]\n",
      " [ 8 10]]\n",
      "**************************************************\n",
      "type : <class 'numpy.ndarray'>\n",
      "shape : (2, 2), dimension : 2, dtype : int32\n",
      "Array's Data : \n",
      " [[ 0  2]\n",
      " [ 8 10]]\n"
     ]
    },
    {
     "name": "stderr",
     "output_type": "stream",
     "text": [
      "<ipython-input-46-46cf51f3cb59>:9: FutureWarning: Using a non-tuple sequence for multidimensional indexing is deprecated; use `arr[tuple(seq)]` instead of `arr[seq]`. In the future this will be interpreted as an array index, `arr[np.array(seq)]`, which will result either in an error or a different result.\n",
      "  aryInfo(ary[[rowidx]] [:,colidx])\n"
     ]
    }
   ],
   "source": [
    "# 인덱스를 기준으로 찾기\n",
    "# np.ix_()\n",
    "aryInfo(ary[[0,2],[0,2]])\n",
    "print('np.ix_()--->')\n",
    "aryInfo(ary[np.ix_([0,2],[0,2])])\n",
    "print('*'*50)\n",
    "rowidx = np.array([0,2])\n",
    "colidx = np.array([0,2])\n",
    "aryInfo(ary[[rowidx]] [:,colidx])"
   ]
  },
  {
   "cell_type": "code",
   "execution_count": 47,
   "metadata": {},
   "outputs": [
    {
     "name": "stdout",
     "output_type": "stream",
     "text": [
      "type : <class 'numpy.ndarray'>\n",
      "shape : (3,), dimension : 1, dtype : float32\n",
      "Array's Data : \n",
      " [1. 2. 3.]\n"
     ]
    }
   ],
   "source": [
    "x = np.array([1,2,3],dtype='f')\n",
    "aryInfo(x)"
   ]
  },
  {
   "cell_type": "markdown",
   "metadata": {},
   "source": [
    "- inf(np.innf(infinity))\n",
    "- NaN(np.nan(not a number))"
   ]
  },
  {
   "cell_type": "code",
   "execution_count": 48,
   "metadata": {},
   "outputs": [
    {
     "name": "stderr",
     "output_type": "stream",
     "text": [
      "<ipython-input-48-720e9e2d83ea>:1: RuntimeWarning: divide by zero encountered in true_divide\n",
      "  np.array([0,1,-1,0]) / np.array([1,0,0,0])\n",
      "<ipython-input-48-720e9e2d83ea>:1: RuntimeWarning: invalid value encountered in true_divide\n",
      "  np.array([0,1,-1,0]) / np.array([1,0,0,0])\n"
     ]
    },
    {
     "data": {
      "text/plain": [
       "array([  0.,  inf, -inf,  nan])"
      ]
     },
     "execution_count": 48,
     "metadata": {},
     "output_type": "execute_result"
    }
   ],
   "source": [
    "np.array([0,1,-1,0]) / np.array([1,0,0,0])"
   ]
  },
  {
   "cell_type": "code",
   "execution_count": 49,
   "metadata": {},
   "outputs": [
    {
     "name": "stdout",
     "output_type": "stream",
     "text": [
      "-inf\n",
      "0.0\n"
     ]
    },
    {
     "name": "stderr",
     "output_type": "stream",
     "text": [
      "<ipython-input-49-0d5d201f1928>:1: RuntimeWarning: divide by zero encountered in log\n",
      "  print(np.log(0))\n"
     ]
    }
   ],
   "source": [
    "print(np.log(0))\n",
    "print(np.exp(-np.inf))"
   ]
  },
  {
   "cell_type": "markdown",
   "metadata": {},
   "source": [
    "### 배열 생성 시 사용할 수 있는 함수\n",
    "- array()\n",
    "- arange()\n",
    "- zeros(), ones()\n",
    "- zeros_like(), ones_like()\n",
    "- empty()\n",
    "- linspace()"
   ]
  },
  {
   "cell_type": "code",
   "execution_count": 50,
   "metadata": {},
   "outputs": [
    {
     "name": "stdout",
     "output_type": "stream",
     "text": [
      "type : <class 'numpy.ndarray'>\n",
      "shape : (5,), dimension : 1, dtype : float64\n",
      "Array's Data : \n",
      " [0. 0. 0. 0. 0.]\n"
     ]
    }
   ],
   "source": [
    "z = np.zeros(5)\n",
    "aryInfo(z)"
   ]
  },
  {
   "cell_type": "code",
   "execution_count": 51,
   "metadata": {},
   "outputs": [
    {
     "name": "stdout",
     "output_type": "stream",
     "text": [
      "type : <class 'numpy.ndarray'>\n",
      "shape : (2, 3), dimension : 2, dtype : float64\n",
      "Array's Data : \n",
      " [[0. 0. 0.]\n",
      " [0. 0. 0.]]\n"
     ]
    }
   ],
   "source": [
    "z = np.zeros((2,3))\n",
    "aryInfo(z)"
   ]
  },
  {
   "cell_type": "code",
   "execution_count": 52,
   "metadata": {},
   "outputs": [
    {
     "name": "stdout",
     "output_type": "stream",
     "text": [
      "type : <class 'numpy.ndarray'>\n",
      "shape : (5, 2), dimension : 2, dtype : int32\n",
      "Array's Data : \n",
      " [[0 0]\n",
      " [0 0]\n",
      " [0 0]\n",
      " [0 0]\n",
      " [0 0]]\n"
     ]
    }
   ],
   "source": [
    "z = np.zeros((5,2),dtype='i')\n",
    "aryInfo(z)"
   ]
  },
  {
   "cell_type": "code",
   "execution_count": 53,
   "metadata": {},
   "outputs": [
    {
     "name": "stdout",
     "output_type": "stream",
     "text": [
      "type : <class 'numpy.ndarray'>\n",
      "shape : (2, 3, 4), dimension : 3, dtype : int32\n",
      "Array's Data : \n",
      " [[[1 1 1 1]\n",
      "  [1 1 1 1]\n",
      "  [1 1 1 1]]\n",
      "\n",
      " [[1 1 1 1]\n",
      "  [1 1 1 1]\n",
      "  [1 1 1 1]]]\n"
     ]
    }
   ],
   "source": [
    "o = np.ones((2,3,4),dtype='i')\n",
    "aryInfo(o)"
   ]
  },
  {
   "cell_type": "code",
   "execution_count": 54,
   "metadata": {},
   "outputs": [
    {
     "name": "stdout",
     "output_type": "stream",
     "text": [
      "type : <class 'numpy.ndarray'>\n",
      "shape : (5, 2), dimension : 2, dtype : float32\n",
      "Array's Data : \n",
      " [[0. 0.]\n",
      " [0. 0.]\n",
      " [0. 0.]\n",
      " [0. 0.]\n",
      " [0. 0.]]\n"
     ]
    }
   ],
   "source": [
    "# 크기를 튜플로 명시하지 않고 다른 배열과 같은 크기의 배열을 생성할 때\n",
    "zl = np.zeros_like(z,dtype='f')\n",
    "aryInfo(zl)"
   ]
  },
  {
   "cell_type": "code",
   "execution_count": 55,
   "metadata": {},
   "outputs": [
    {
     "name": "stdout",
     "output_type": "stream",
     "text": [
      "type : <class 'numpy.ndarray'>\n",
      "shape : (5, 2), dimension : 2, dtype : float32\n",
      "Array's Data : \n",
      " [[1. 1.]\n",
      " [1. 1.]\n",
      " [1. 1.]\n",
      " [1. 1.]\n",
      " [1. 1.]]\n"
     ]
    }
   ],
   "source": [
    "zl = np.ones_like(z,dtype='f')\n",
    "aryInfo(zl)"
   ]
  },
  {
   "cell_type": "code",
   "execution_count": 56,
   "metadata": {},
   "outputs": [
    {
     "name": "stdout",
     "output_type": "stream",
     "text": [
      "type : <class 'numpy.ndarray'>\n",
      "shape : (4, 3), dimension : 2, dtype : float64\n",
      "Array's Data : \n",
      " [[1.05254544e-311 3.16202013e-322 0.00000000e+000]\n",
      " [0.00000000e+000 0.00000000e+000 1.53378774e-075]\n",
      " [2.69809345e+184 2.35909070e+184 2.65140325e-032]\n",
      " [2.65764230e+179 4.32177771e-061 6.57794788e-038]]\n"
     ]
    }
   ],
   "source": [
    "# 배열 생성 시 초기화를 단축시켜줌\n",
    "e = np.empty((4,3))\n",
    "aryInfo(e)"
   ]
  },
  {
   "cell_type": "code",
   "execution_count": 57,
   "metadata": {},
   "outputs": [
    {
     "data": {
      "text/plain": [
       "array([0, 1, 2, 3, 4, 5, 6, 7, 8, 9])"
      ]
     },
     "execution_count": 57,
     "metadata": {},
     "output_type": "execute_result"
    }
   ],
   "source": [
    "# 0 부터 n-1까지의 값 생성\n",
    "np.arange(10)"
   ]
  },
  {
   "cell_type": "code",
   "execution_count": 58,
   "metadata": {},
   "outputs": [
    {
     "data": {
      "text/plain": [
       "array([ 3,  5,  7,  9, 11, 13, 15, 17, 19])"
      ]
     },
     "execution_count": 58,
     "metadata": {},
     "output_type": "execute_result"
    }
   ],
   "source": [
    "# 시작, 끝(포함하지 않음), 단계\n",
    "np.arange(3,21,2)"
   ]
  },
  {
   "cell_type": "code",
   "execution_count": 59,
   "metadata": {},
   "outputs": [
    {
     "data": {
      "text/plain": [
       "array([  0.,  25.,  50.,  75., 100.])"
      ]
     },
     "execution_count": 59,
     "metadata": {},
     "output_type": "execute_result"
    }
   ],
   "source": [
    "# 구간 나누기\n",
    "# 시작, 끝(포함), 개수\n",
    "np.linspace(0,100,5)"
   ]
  },
  {
   "cell_type": "markdown",
   "metadata": {},
   "source": [
    "- 전치행렬(transpose matrix) : 행렬의 행은 열로, 열은 행으로 바꾼 행렬\n",
    "- T(속성)"
   ]
  },
  {
   "cell_type": "code",
   "execution_count": 135,
   "metadata": {},
   "outputs": [
    {
     "name": "stdout",
     "output_type": "stream",
     "text": [
      "type : <class 'numpy.ndarray'>\n",
      "shape : (2, 3), dimension : 2, dtype : int32\n",
      "Array's Data : \n",
      " [[1 2 3]\n",
      " [4 5 6]]\n"
     ]
    }
   ],
   "source": [
    "ary = np.array([[1,2,3],[4,5,6]])\n",
    "aryInfo(ary)"
   ]
  },
  {
   "cell_type": "code",
   "execution_count": 136,
   "metadata": {},
   "outputs": [
    {
     "name": "stdout",
     "output_type": "stream",
     "text": [
      "type : <class 'numpy.ndarray'>\n",
      "shape : (3, 2), dimension : 2, dtype : int32\n",
      "Array's Data : \n",
      " [[1 4]\n",
      " [2 5]\n",
      " [3 6]]\n"
     ]
    }
   ],
   "source": [
    "ary_t = ary.T\n",
    "aryInfo(ary_t)"
   ]
  },
  {
   "cell_type": "code",
   "execution_count": 137,
   "metadata": {},
   "outputs": [
    {
     "name": "stdout",
     "output_type": "stream",
     "text": [
      "type : <class 'numpy.ndarray'>\n",
      "shape : (10,), dimension : 1, dtype : int32\n",
      "Array's Data : \n",
      " [0 1 2 3 4 5 6 7 8 9]\n",
      "**************************************************\n",
      "type : <class 'numpy.ndarray'>\n",
      "shape : (10,), dimension : 1, dtype : int32\n",
      "Array's Data : \n",
      " [0 1 2 3 4 5 6 7 8 9]\n",
      "**************************************************\n",
      "type : <class 'numpy.ndarray'>\n",
      "shape : (10, 1), dimension : 2, dtype : int32\n",
      "Array's Data : \n",
      " [[0]\n",
      " [1]\n",
      " [2]\n",
      " [3]\n",
      " [4]\n",
      " [5]\n",
      " [6]\n",
      " [7]\n",
      " [8]\n",
      " [9]]\n"
     ]
    }
   ],
   "source": [
    "# vector 에 transpose 가능할까?\n",
    "vec = np.arange(10)\n",
    "aryInfo(vec)\n",
    "print('*'*50)\n",
    "vec_t = vec.T\n",
    "aryInfo(vec_t)\n",
    "print('*'*50)\n",
    "vec_r_t = vec.reshape(1,10).T\n",
    "aryInfo(vec_r_t)"
   ]
  },
  {
   "cell_type": "code",
   "execution_count": 141,
   "metadata": {},
   "outputs": [
    {
     "name": "stdout",
     "output_type": "stream",
     "text": [
      "type : <class 'numpy.ndarray'>\n",
      "shape : (12,), dimension : 1, dtype : int32\n",
      "Array's Data : \n",
      " [ 0  1  2  3  4  5  6  7  8  9 10 11]\n"
     ]
    }
   ],
   "source": [
    "x = np.arange(12)\n",
    "aryInfo(x)"
   ]
  },
  {
   "cell_type": "code",
   "execution_count": 66,
   "metadata": {
    "scrolled": true
   },
   "outputs": [
    {
     "name": "stdout",
     "output_type": "stream",
     "text": [
      "type : <class 'numpy.ndarray'>\n",
      "shape : (3, 4), dimension : 2, dtype : int32\n",
      "Array's Data : \n",
      " [[ 0  1  2  3]\n",
      " [ 4  5  6  7]\n",
      " [ 8  9 10 11]]\n"
     ]
    }
   ],
   "source": [
    "xx = x.reshape(3,4)\n",
    "aryInfo(xx)"
   ]
  },
  {
   "cell_type": "code",
   "execution_count": 67,
   "metadata": {},
   "outputs": [
    {
     "name": "stdout",
     "output_type": "stream",
     "text": [
      "type : <class 'numpy.ndarray'>\n",
      "shape : (3, 4), dimension : 2, dtype : int32\n",
      "Array's Data : \n",
      " [[ 0  1  2  3]\n",
      " [ 4  5  6  7]\n",
      " [ 8  9 10 11]]\n"
     ]
    }
   ],
   "source": [
    "# -1로 지정할 경우 열의 개수 자동으로 결정\n",
    "x_reshape = x.reshape(3,-1)\n",
    "aryInfo(x_reshape)"
   ]
  },
  {
   "cell_type": "code",
   "execution_count": 68,
   "metadata": {},
   "outputs": [
    {
     "name": "stdout",
     "output_type": "stream",
     "text": [
      "type : <class 'numpy.ndarray'>\n",
      "shape : (2, 2, 3), dimension : 3, dtype : int32\n",
      "Array's Data : \n",
      " [[[ 0  1  2]\n",
      "  [ 3  4  5]]\n",
      "\n",
      " [[ 6  7  8]\n",
      "  [ 9 10 11]]]\n"
     ]
    }
   ],
   "source": [
    "x_reshape = x.reshape(2,2,-1)\n",
    "aryInfo(x_reshape)"
   ]
  },
  {
   "cell_type": "code",
   "execution_count": 69,
   "metadata": {},
   "outputs": [
    {
     "name": "stdout",
     "output_type": "stream",
     "text": [
      "type : <class 'numpy.ndarray'>\n",
      "shape : (2, 3, 2), dimension : 3, dtype : int32\n",
      "Array's Data : \n",
      " [[[ 0  1]\n",
      "  [ 2  3]\n",
      "  [ 4  5]]\n",
      "\n",
      " [[ 6  7]\n",
      "  [ 8  9]\n",
      "  [10 11]]]\n"
     ]
    }
   ],
   "source": [
    "# 열을 기준으로 행의 개수 자동으로 결정\n",
    "x_reshape = x.reshape(2,-1,2)\n",
    "aryInfo(x_reshape)"
   ]
  },
  {
   "cell_type": "markdown",
   "metadata": {},
   "source": [
    "- 행렬을 벡터로 변형한다면 (flatten())\n",
    "- 다차원 배열 -> 1차원 배열"
   ]
  },
  {
   "cell_type": "code",
   "execution_count": 71,
   "metadata": {},
   "outputs": [
    {
     "name": "stdout",
     "output_type": "stream",
     "text": [
      "type : <class 'numpy.ndarray'>\n",
      "shape : (12,), dimension : 1, dtype : int32\n",
      "Array's Data : \n",
      " [ 0  1  2  3  4  5  6  7  8  9 10 11]\n"
     ]
    }
   ],
   "source": [
    "aryInfo(x_reshape.flatten())"
   ]
  },
  {
   "cell_type": "code",
   "execution_count": 77,
   "metadata": {},
   "outputs": [
    {
     "name": "stdout",
     "output_type": "stream",
     "text": [
      "type : <class 'numpy.ndarray'>\n",
      "shape : (5,), dimension : 1, dtype : int32\n",
      "Array's Data : \n",
      " [0 1 2 3 4]\n"
     ]
    }
   ],
   "source": [
    "# reshape(변경) 시 주의\n",
    "# 출력결과는 동일하지만 형태는 다름\n",
    "# 1차원 vs 다차원\n",
    "x = np.arange(5)\n",
    "aryInfo(x)"
   ]
  },
  {
   "cell_type": "code",
   "execution_count": 78,
   "metadata": {},
   "outputs": [
    {
     "name": "stdout",
     "output_type": "stream",
     "text": [
      "type : <class 'numpy.ndarray'>\n",
      "shape : (1, 5), dimension : 2, dtype : int32\n",
      "Array's Data : \n",
      " [[0 1 2 3 4]]\n"
     ]
    }
   ],
   "source": [
    "x_re = x.reshape(1,5)\n",
    "aryInfo(x_re)"
   ]
  },
  {
   "cell_type": "code",
   "execution_count": 76,
   "metadata": {},
   "outputs": [
    {
     "name": "stdout",
     "output_type": "stream",
     "text": [
      "type : <class 'numpy.ndarray'>\n",
      "shape : (5, 1), dimension : 2, dtype : int32\n",
      "Array's Data : \n",
      " [[0]\n",
      " [1]\n",
      " [2]\n",
      " [3]\n",
      " [4]]\n"
     ]
    }
   ],
   "source": [
    "x_re = x.reshape(5,1)\n",
    "aryInfo(x_re)"
   ]
  },
  {
   "cell_type": "markdown",
   "metadata": {},
   "source": [
    "### 1차원 혹은 2차원 데이터에 대한 roop 작업가능\n",
    "- ndarray iterator - nditer()\n",
    "- 공부 필요!"
   ]
  },
  {
   "cell_type": "code",
   "execution_count": 79,
   "metadata": {},
   "outputs": [
    {
     "name": "stdout",
     "output_type": "stream",
     "text": [
      "0 1 2 3 4 "
     ]
    }
   ],
   "source": [
    "for tmp in x :\n",
    "    print(tmp,end=\" \")"
   ]
  },
  {
   "cell_type": "code",
   "execution_count": 142,
   "metadata": {},
   "outputs": [
    {
     "name": "stdout",
     "output_type": "stream",
     "text": [
      "0 1 2 3 4 5 6 7 8 9 10 11 "
     ]
    }
   ],
   "source": [
    "# c_index : 1차원 배열에 대한 nditer()\n",
    "ite = np.nditer(x, flags=['c_index'])\n",
    "while not ite.finished :\n",
    "    print(x[ite.index],end=\" \")\n",
    "    ite.iternext()"
   ]
  },
  {
   "cell_type": "code",
   "execution_count": 143,
   "metadata": {},
   "outputs": [
    {
     "name": "stdout",
     "output_type": "stream",
     "text": [
      "type : <class 'numpy.ndarray'>\n",
      "shape : (2, 3), dimension : 2, dtype : int32\n",
      "Array's Data : \n",
      " [[1 2 3]\n",
      " [4 5 6]]\n"
     ]
    }
   ],
   "source": [
    "# 2차원 배열에 대한 순차접근\n",
    "two_dim_ary = np.array([[1,2,3],[4,5,6]])\n",
    "aryInfo(two_dim_ary)"
   ]
  },
  {
   "cell_type": "code",
   "execution_count": 154,
   "metadata": {},
   "outputs": [
    {
     "name": "stdout",
     "output_type": "stream",
     "text": [
      "2 <class 'int'>\n",
      "3\n",
      "1 2 3 \n",
      "\n",
      "4 5 6 \n",
      "\n"
     ]
    }
   ],
   "source": [
    "# 2차원 배열에 대한 순차적 접근\n",
    "# 2행 3열\n",
    "print(two_dim_ary.shape[0],type(two_dim_ary.shape[0])) # row\n",
    "print(two_dim_ary.shape[1]) # col\n",
    "\n",
    "for i in range(two_dim_ary.shape[0]) :\n",
    "    for j in range(two_dim_ary.shape[1]) :\n",
    "        print(two_dim_ary[i][j],end=\" \")\n",
    "    print('\\n')"
   ]
  },
  {
   "cell_type": "code",
   "execution_count": 155,
   "metadata": {},
   "outputs": [
    {
     "name": "stdout",
     "output_type": "stream",
     "text": [
      "1\n",
      "2\n",
      "3\n",
      "4\n",
      "5\n",
      "6\n"
     ]
    }
   ],
   "source": [
    "# c_index : 2차원 배열에 대한 nditer()\n",
    "ite = np.nditer(two_dim_ary, flags=['multi_index'])\n",
    "while not ite.finished :\n",
    "    print(two_dim_ary[ite.multi_index],end=\"\\n\")\n",
    "    ite.iternext()"
   ]
  }
 ],
 "metadata": {
  "kernelspec": {
   "display_name": "Python 3",
   "language": "python",
   "name": "python3"
  },
  "language_info": {
   "codemirror_mode": {
    "name": "ipython",
    "version": 3
   },
   "file_extension": ".py",
   "mimetype": "text/x-python",
   "name": "python",
   "nbconvert_exporter": "python",
   "pygments_lexer": "ipython3",
   "version": "3.8.5"
  }
 },
 "nbformat": 4,
 "nbformat_minor": 4
}
