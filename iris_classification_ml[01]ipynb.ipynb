{
  "nbformat": 4,
  "nbformat_minor": 0,
  "metadata": {
    "colab": {
      "name": "iris_classification_ml[01]ipynb",
      "provenance": [],
      "authorship_tag": "ABX9TyP8HbvsL6ThuqNnNM64Kpb+",
      "include_colab_link": true
    },
    "kernelspec": {
      "name": "python3",
      "display_name": "Python 3"
    }
  },
  "cells": [
    {
      "cell_type": "markdown",
      "metadata": {
        "id": "view-in-github",
        "colab_type": "text"
      },
      "source": [
        "<a href=\"https://colab.research.google.com/github/im-Lily/jupyter/blob/main/iris_classification_ml%5B01%5Dipynb.ipynb\" target=\"_parent\"><img src=\"https://colab.research.google.com/assets/colab-badge.svg\" alt=\"Open In Colab\"/></a>"
      ]
    },
    {
      "cell_type": "code",
      "metadata": {
        "id": "RcSL8iUg-Osa",
        "colab": {
          "base_uri": "https://localhost:8080/",
          "height": 36
        },
        "outputId": "ff8b65d4-4504-431a-e2ca-16c4f7a805e5"
      },
      "source": [
        "import sklearn\r\n",
        "sklearn.__version__"
      ],
      "execution_count": 4,
      "outputs": [
        {
          "output_type": "execute_result",
          "data": {
            "application/vnd.google.colaboratory.intrinsic+json": {
              "type": "string"
            },
            "text/plain": [
              "'0.22.2.post1'"
            ]
          },
          "metadata": {
            "tags": []
          },
          "execution_count": 4
        }
      ]
    },
    {
      "cell_type": "code",
      "metadata": {
        "colab": {
          "base_uri": "https://localhost:8080/"
        },
        "id": "zLCw_HIOV8-3",
        "outputId": "5e3f46b0-51f6-4db0-ff69-99aebaa8f654"
      },
      "source": [
        "pip install sklearn"
      ],
      "execution_count": 5,
      "outputs": [
        {
          "output_type": "stream",
          "text": [
            "Requirement already satisfied: sklearn in /usr/local/lib/python3.7/dist-packages (0.0)\n",
            "Requirement already satisfied: scikit-learn in /usr/local/lib/python3.7/dist-packages (from sklearn) (0.22.2.post1)\n",
            "Requirement already satisfied: joblib>=0.11 in /usr/local/lib/python3.7/dist-packages (from scikit-learn->sklearn) (1.0.1)\n",
            "Requirement already satisfied: numpy>=1.11.0 in /usr/local/lib/python3.7/dist-packages (from scikit-learn->sklearn) (1.19.5)\n",
            "Requirement already satisfied: scipy>=0.17.0 in /usr/local/lib/python3.7/dist-packages (from scikit-learn->sklearn) (1.4.1)\n"
          ],
          "name": "stdout"
        }
      ]
    },
    {
      "cell_type": "code",
      "metadata": {
        "id": "i36O4HFLWBcD"
      },
      "source": [
        "import numpy as np\r\n",
        "import pandas as pd\r\n",
        "from sklearn.datasets import load_iris"
      ],
      "execution_count": 6,
      "outputs": []
    },
    {
      "cell_type": "code",
      "metadata": {
        "colab": {
          "base_uri": "https://localhost:8080/"
        },
        "id": "M4DHDKVoaG_4",
        "outputId": "7d9f5550-a7a4-49bf-d3cb-a25df40d020b"
      },
      "source": [
        "iris = load_iris()\r\n",
        "type(iris)"
      ],
      "execution_count": 7,
      "outputs": [
        {
          "output_type": "execute_result",
          "data": {
            "text/plain": [
              "sklearn.utils.Bunch"
            ]
          },
          "metadata": {
            "tags": []
          },
          "execution_count": 7
        }
      ]
    },
    {
      "cell_type": "code",
      "metadata": {
        "colab": {
          "base_uri": "https://localhost:8080/"
        },
        "id": "ut2gcKASaNl8",
        "outputId": "382f525d-faad-473e-e821-2bf9ed4d6d7f"
      },
      "source": [
        "keys = iris.keys()\r\n",
        "keys"
      ],
      "execution_count": 8,
      "outputs": [
        {
          "output_type": "execute_result",
          "data": {
            "text/plain": [
              "dict_keys(['data', 'target', 'target_names', 'DESCR', 'feature_names', 'filename'])"
            ]
          },
          "metadata": {
            "tags": []
          },
          "execution_count": 8
        }
      ]
    },
    {
      "cell_type": "code",
      "metadata": {
        "id": "4oxSKrQNaZpA"
      },
      "source": [
        "# iris.data\r\n",
        "# iris.target\r\n",
        "# iris.target_names\r\n",
        "# iris.feature_names\r\n",
        "# iris.DESCR"
      ],
      "execution_count": 9,
      "outputs": []
    },
    {
      "cell_type": "markdown",
      "metadata": {
        "id": "mL2wbEtzc1Ud"
      },
      "source": [
        "- 피처데이터셋 확인"
      ]
    },
    {
      "cell_type": "code",
      "metadata": {
        "colab": {
          "base_uri": "https://localhost:8080/"
        },
        "id": "OOwgcdGVauId",
        "outputId": "71d8e2a3-9f49-4f7c-8f40-c7d458f976ec"
      },
      "source": [
        "iris_data = iris.data\r\n",
        "iris_data"
      ],
      "execution_count": 10,
      "outputs": [
        {
          "output_type": "execute_result",
          "data": {
            "text/plain": [
              "array([[5.1, 3.5, 1.4, 0.2],\n",
              "       [4.9, 3. , 1.4, 0.2],\n",
              "       [4.7, 3.2, 1.3, 0.2],\n",
              "       [4.6, 3.1, 1.5, 0.2],\n",
              "       [5. , 3.6, 1.4, 0.2],\n",
              "       [5.4, 3.9, 1.7, 0.4],\n",
              "       [4.6, 3.4, 1.4, 0.3],\n",
              "       [5. , 3.4, 1.5, 0.2],\n",
              "       [4.4, 2.9, 1.4, 0.2],\n",
              "       [4.9, 3.1, 1.5, 0.1],\n",
              "       [5.4, 3.7, 1.5, 0.2],\n",
              "       [4.8, 3.4, 1.6, 0.2],\n",
              "       [4.8, 3. , 1.4, 0.1],\n",
              "       [4.3, 3. , 1.1, 0.1],\n",
              "       [5.8, 4. , 1.2, 0.2],\n",
              "       [5.7, 4.4, 1.5, 0.4],\n",
              "       [5.4, 3.9, 1.3, 0.4],\n",
              "       [5.1, 3.5, 1.4, 0.3],\n",
              "       [5.7, 3.8, 1.7, 0.3],\n",
              "       [5.1, 3.8, 1.5, 0.3],\n",
              "       [5.4, 3.4, 1.7, 0.2],\n",
              "       [5.1, 3.7, 1.5, 0.4],\n",
              "       [4.6, 3.6, 1. , 0.2],\n",
              "       [5.1, 3.3, 1.7, 0.5],\n",
              "       [4.8, 3.4, 1.9, 0.2],\n",
              "       [5. , 3. , 1.6, 0.2],\n",
              "       [5. , 3.4, 1.6, 0.4],\n",
              "       [5.2, 3.5, 1.5, 0.2],\n",
              "       [5.2, 3.4, 1.4, 0.2],\n",
              "       [4.7, 3.2, 1.6, 0.2],\n",
              "       [4.8, 3.1, 1.6, 0.2],\n",
              "       [5.4, 3.4, 1.5, 0.4],\n",
              "       [5.2, 4.1, 1.5, 0.1],\n",
              "       [5.5, 4.2, 1.4, 0.2],\n",
              "       [4.9, 3.1, 1.5, 0.2],\n",
              "       [5. , 3.2, 1.2, 0.2],\n",
              "       [5.5, 3.5, 1.3, 0.2],\n",
              "       [4.9, 3.6, 1.4, 0.1],\n",
              "       [4.4, 3. , 1.3, 0.2],\n",
              "       [5.1, 3.4, 1.5, 0.2],\n",
              "       [5. , 3.5, 1.3, 0.3],\n",
              "       [4.5, 2.3, 1.3, 0.3],\n",
              "       [4.4, 3.2, 1.3, 0.2],\n",
              "       [5. , 3.5, 1.6, 0.6],\n",
              "       [5.1, 3.8, 1.9, 0.4],\n",
              "       [4.8, 3. , 1.4, 0.3],\n",
              "       [5.1, 3.8, 1.6, 0.2],\n",
              "       [4.6, 3.2, 1.4, 0.2],\n",
              "       [5.3, 3.7, 1.5, 0.2],\n",
              "       [5. , 3.3, 1.4, 0.2],\n",
              "       [7. , 3.2, 4.7, 1.4],\n",
              "       [6.4, 3.2, 4.5, 1.5],\n",
              "       [6.9, 3.1, 4.9, 1.5],\n",
              "       [5.5, 2.3, 4. , 1.3],\n",
              "       [6.5, 2.8, 4.6, 1.5],\n",
              "       [5.7, 2.8, 4.5, 1.3],\n",
              "       [6.3, 3.3, 4.7, 1.6],\n",
              "       [4.9, 2.4, 3.3, 1. ],\n",
              "       [6.6, 2.9, 4.6, 1.3],\n",
              "       [5.2, 2.7, 3.9, 1.4],\n",
              "       [5. , 2. , 3.5, 1. ],\n",
              "       [5.9, 3. , 4.2, 1.5],\n",
              "       [6. , 2.2, 4. , 1. ],\n",
              "       [6.1, 2.9, 4.7, 1.4],\n",
              "       [5.6, 2.9, 3.6, 1.3],\n",
              "       [6.7, 3.1, 4.4, 1.4],\n",
              "       [5.6, 3. , 4.5, 1.5],\n",
              "       [5.8, 2.7, 4.1, 1. ],\n",
              "       [6.2, 2.2, 4.5, 1.5],\n",
              "       [5.6, 2.5, 3.9, 1.1],\n",
              "       [5.9, 3.2, 4.8, 1.8],\n",
              "       [6.1, 2.8, 4. , 1.3],\n",
              "       [6.3, 2.5, 4.9, 1.5],\n",
              "       [6.1, 2.8, 4.7, 1.2],\n",
              "       [6.4, 2.9, 4.3, 1.3],\n",
              "       [6.6, 3. , 4.4, 1.4],\n",
              "       [6.8, 2.8, 4.8, 1.4],\n",
              "       [6.7, 3. , 5. , 1.7],\n",
              "       [6. , 2.9, 4.5, 1.5],\n",
              "       [5.7, 2.6, 3.5, 1. ],\n",
              "       [5.5, 2.4, 3.8, 1.1],\n",
              "       [5.5, 2.4, 3.7, 1. ],\n",
              "       [5.8, 2.7, 3.9, 1.2],\n",
              "       [6. , 2.7, 5.1, 1.6],\n",
              "       [5.4, 3. , 4.5, 1.5],\n",
              "       [6. , 3.4, 4.5, 1.6],\n",
              "       [6.7, 3.1, 4.7, 1.5],\n",
              "       [6.3, 2.3, 4.4, 1.3],\n",
              "       [5.6, 3. , 4.1, 1.3],\n",
              "       [5.5, 2.5, 4. , 1.3],\n",
              "       [5.5, 2.6, 4.4, 1.2],\n",
              "       [6.1, 3. , 4.6, 1.4],\n",
              "       [5.8, 2.6, 4. , 1.2],\n",
              "       [5. , 2.3, 3.3, 1. ],\n",
              "       [5.6, 2.7, 4.2, 1.3],\n",
              "       [5.7, 3. , 4.2, 1.2],\n",
              "       [5.7, 2.9, 4.2, 1.3],\n",
              "       [6.2, 2.9, 4.3, 1.3],\n",
              "       [5.1, 2.5, 3. , 1.1],\n",
              "       [5.7, 2.8, 4.1, 1.3],\n",
              "       [6.3, 3.3, 6. , 2.5],\n",
              "       [5.8, 2.7, 5.1, 1.9],\n",
              "       [7.1, 3. , 5.9, 2.1],\n",
              "       [6.3, 2.9, 5.6, 1.8],\n",
              "       [6.5, 3. , 5.8, 2.2],\n",
              "       [7.6, 3. , 6.6, 2.1],\n",
              "       [4.9, 2.5, 4.5, 1.7],\n",
              "       [7.3, 2.9, 6.3, 1.8],\n",
              "       [6.7, 2.5, 5.8, 1.8],\n",
              "       [7.2, 3.6, 6.1, 2.5],\n",
              "       [6.5, 3.2, 5.1, 2. ],\n",
              "       [6.4, 2.7, 5.3, 1.9],\n",
              "       [6.8, 3. , 5.5, 2.1],\n",
              "       [5.7, 2.5, 5. , 2. ],\n",
              "       [5.8, 2.8, 5.1, 2.4],\n",
              "       [6.4, 3.2, 5.3, 2.3],\n",
              "       [6.5, 3. , 5.5, 1.8],\n",
              "       [7.7, 3.8, 6.7, 2.2],\n",
              "       [7.7, 2.6, 6.9, 2.3],\n",
              "       [6. , 2.2, 5. , 1.5],\n",
              "       [6.9, 3.2, 5.7, 2.3],\n",
              "       [5.6, 2.8, 4.9, 2. ],\n",
              "       [7.7, 2.8, 6.7, 2. ],\n",
              "       [6.3, 2.7, 4.9, 1.8],\n",
              "       [6.7, 3.3, 5.7, 2.1],\n",
              "       [7.2, 3.2, 6. , 1.8],\n",
              "       [6.2, 2.8, 4.8, 1.8],\n",
              "       [6.1, 3. , 4.9, 1.8],\n",
              "       [6.4, 2.8, 5.6, 2.1],\n",
              "       [7.2, 3. , 5.8, 1.6],\n",
              "       [7.4, 2.8, 6.1, 1.9],\n",
              "       [7.9, 3.8, 6.4, 2. ],\n",
              "       [6.4, 2.8, 5.6, 2.2],\n",
              "       [6.3, 2.8, 5.1, 1.5],\n",
              "       [6.1, 2.6, 5.6, 1.4],\n",
              "       [7.7, 3. , 6.1, 2.3],\n",
              "       [6.3, 3.4, 5.6, 2.4],\n",
              "       [6.4, 3.1, 5.5, 1.8],\n",
              "       [6. , 3. , 4.8, 1.8],\n",
              "       [6.9, 3.1, 5.4, 2.1],\n",
              "       [6.7, 3.1, 5.6, 2.4],\n",
              "       [6.9, 3.1, 5.1, 2.3],\n",
              "       [5.8, 2.7, 5.1, 1.9],\n",
              "       [6.8, 3.2, 5.9, 2.3],\n",
              "       [6.7, 3.3, 5.7, 2.5],\n",
              "       [6.7, 3. , 5.2, 2.3],\n",
              "       [6.3, 2.5, 5. , 1.9],\n",
              "       [6.5, 3. , 5.2, 2. ],\n",
              "       [6.2, 3.4, 5.4, 2.3],\n",
              "       [5.9, 3. , 5.1, 1.8]])"
            ]
          },
          "metadata": {
            "tags": []
          },
          "execution_count": 10
        }
      ]
    },
    {
      "cell_type": "markdown",
      "metadata": {
        "id": "8GW5PzvvctOm"
      },
      "source": [
        "- 레이블(결정값 타켓, 클래스) 확인"
      ]
    },
    {
      "cell_type": "code",
      "metadata": {
        "colab": {
          "base_uri": "https://localhost:8080/"
        },
        "id": "yMd8PNFga1fA",
        "outputId": "404a3546-3518-4b88-8cc4-8c7d422de46f"
      },
      "source": [
        "iris_label = iris.target\r\n",
        "# 연속형이 아닌 범주형 데이터임\r\n",
        "iris_label "
      ],
      "execution_count": 11,
      "outputs": [
        {
          "output_type": "execute_result",
          "data": {
            "text/plain": [
              "array([0, 0, 0, 0, 0, 0, 0, 0, 0, 0, 0, 0, 0, 0, 0, 0, 0, 0, 0, 0, 0, 0,\n",
              "       0, 0, 0, 0, 0, 0, 0, 0, 0, 0, 0, 0, 0, 0, 0, 0, 0, 0, 0, 0, 0, 0,\n",
              "       0, 0, 0, 0, 0, 0, 1, 1, 1, 1, 1, 1, 1, 1, 1, 1, 1, 1, 1, 1, 1, 1,\n",
              "       1, 1, 1, 1, 1, 1, 1, 1, 1, 1, 1, 1, 1, 1, 1, 1, 1, 1, 1, 1, 1, 1,\n",
              "       1, 1, 1, 1, 1, 1, 1, 1, 1, 1, 1, 1, 2, 2, 2, 2, 2, 2, 2, 2, 2, 2,\n",
              "       2, 2, 2, 2, 2, 2, 2, 2, 2, 2, 2, 2, 2, 2, 2, 2, 2, 2, 2, 2, 2, 2,\n",
              "       2, 2, 2, 2, 2, 2, 2, 2, 2, 2, 2, 2, 2, 2, 2, 2, 2, 2])"
            ]
          },
          "metadata": {
            "tags": []
          },
          "execution_count": 11
        }
      ]
    },
    {
      "cell_type": "markdown",
      "metadata": {
        "id": "2JvC0P-adIVw"
      },
      "source": [
        "- 데이터프레임 변환"
      ]
    },
    {
      "cell_type": "code",
      "metadata": {
        "colab": {
          "base_uri": "https://localhost:8080/",
          "height": 415
        },
        "id": "JC05eQw_csiM",
        "outputId": "b368a641-5751-4e92-ffac-3ea437cbfb33"
      },
      "source": [
        "iris_df = pd.DataFrame(data = iris_data,\r\n",
        "                       columns = iris.feature_names)\r\n",
        "# 학습에 대한 정답 추가\r\n",
        "iris_df = pd.DataFrame(data = iris_data,\r\n",
        "                    columns = iris.feature_names)\r\n",
        "                       # 학습에 대한 정답 추가\r\n",
        "iris_df['target'] = iris_label\r\n",
        "iris_df\r\n",
        "iris_df['target'] = iris_label\r\n",
        "iris_df"
      ],
      "execution_count": 14,
      "outputs": [
        {
          "output_type": "execute_result",
          "data": {
            "text/html": [
              "<div>\n",
              "<style scoped>\n",
              "    .dataframe tbody tr th:only-of-type {\n",
              "        vertical-align: middle;\n",
              "    }\n",
              "\n",
              "    .dataframe tbody tr th {\n",
              "        vertical-align: top;\n",
              "    }\n",
              "\n",
              "    .dataframe thead th {\n",
              "        text-align: right;\n",
              "    }\n",
              "</style>\n",
              "<table border=\"1\" class=\"dataframe\">\n",
              "  <thead>\n",
              "    <tr style=\"text-align: right;\">\n",
              "      <th></th>\n",
              "      <th>sepal length (cm)</th>\n",
              "      <th>sepal width (cm)</th>\n",
              "      <th>petal length (cm)</th>\n",
              "      <th>petal width (cm)</th>\n",
              "      <th>target</th>\n",
              "    </tr>\n",
              "  </thead>\n",
              "  <tbody>\n",
              "    <tr>\n",
              "      <th>0</th>\n",
              "      <td>5.1</td>\n",
              "      <td>3.5</td>\n",
              "      <td>1.4</td>\n",
              "      <td>0.2</td>\n",
              "      <td>0</td>\n",
              "    </tr>\n",
              "    <tr>\n",
              "      <th>1</th>\n",
              "      <td>4.9</td>\n",
              "      <td>3.0</td>\n",
              "      <td>1.4</td>\n",
              "      <td>0.2</td>\n",
              "      <td>0</td>\n",
              "    </tr>\n",
              "    <tr>\n",
              "      <th>2</th>\n",
              "      <td>4.7</td>\n",
              "      <td>3.2</td>\n",
              "      <td>1.3</td>\n",
              "      <td>0.2</td>\n",
              "      <td>0</td>\n",
              "    </tr>\n",
              "    <tr>\n",
              "      <th>3</th>\n",
              "      <td>4.6</td>\n",
              "      <td>3.1</td>\n",
              "      <td>1.5</td>\n",
              "      <td>0.2</td>\n",
              "      <td>0</td>\n",
              "    </tr>\n",
              "    <tr>\n",
              "      <th>4</th>\n",
              "      <td>5.0</td>\n",
              "      <td>3.6</td>\n",
              "      <td>1.4</td>\n",
              "      <td>0.2</td>\n",
              "      <td>0</td>\n",
              "    </tr>\n",
              "    <tr>\n",
              "      <th>...</th>\n",
              "      <td>...</td>\n",
              "      <td>...</td>\n",
              "      <td>...</td>\n",
              "      <td>...</td>\n",
              "      <td>...</td>\n",
              "    </tr>\n",
              "    <tr>\n",
              "      <th>145</th>\n",
              "      <td>6.7</td>\n",
              "      <td>3.0</td>\n",
              "      <td>5.2</td>\n",
              "      <td>2.3</td>\n",
              "      <td>2</td>\n",
              "    </tr>\n",
              "    <tr>\n",
              "      <th>146</th>\n",
              "      <td>6.3</td>\n",
              "      <td>2.5</td>\n",
              "      <td>5.0</td>\n",
              "      <td>1.9</td>\n",
              "      <td>2</td>\n",
              "    </tr>\n",
              "    <tr>\n",
              "      <th>147</th>\n",
              "      <td>6.5</td>\n",
              "      <td>3.0</td>\n",
              "      <td>5.2</td>\n",
              "      <td>2.0</td>\n",
              "      <td>2</td>\n",
              "    </tr>\n",
              "    <tr>\n",
              "      <th>148</th>\n",
              "      <td>6.2</td>\n",
              "      <td>3.4</td>\n",
              "      <td>5.4</td>\n",
              "      <td>2.3</td>\n",
              "      <td>2</td>\n",
              "    </tr>\n",
              "    <tr>\n",
              "      <th>149</th>\n",
              "      <td>5.9</td>\n",
              "      <td>3.0</td>\n",
              "      <td>5.1</td>\n",
              "      <td>1.8</td>\n",
              "      <td>2</td>\n",
              "    </tr>\n",
              "  </tbody>\n",
              "</table>\n",
              "<p>150 rows × 5 columns</p>\n",
              "</div>"
            ],
            "text/plain": [
              "     sepal length (cm)  sepal width (cm)  ...  petal width (cm)  target\n",
              "0                  5.1               3.5  ...               0.2       0\n",
              "1                  4.9               3.0  ...               0.2       0\n",
              "2                  4.7               3.2  ...               0.2       0\n",
              "3                  4.6               3.1  ...               0.2       0\n",
              "4                  5.0               3.6  ...               0.2       0\n",
              "..                 ...               ...  ...               ...     ...\n",
              "145                6.7               3.0  ...               2.3       2\n",
              "146                6.3               2.5  ...               1.9       2\n",
              "147                6.5               3.0  ...               2.0       2\n",
              "148                6.2               3.4  ...               2.3       2\n",
              "149                5.9               3.0  ...               1.8       2\n",
              "\n",
              "[150 rows x 5 columns]"
            ]
          },
          "metadata": {
            "tags": []
          },
          "execution_count": 14
        }
      ]
    },
    {
      "cell_type": "markdown",
      "metadata": {
        "id": "mT7DJKe6esyG"
      },
      "source": [
        "- 학습데이터(trainig data / validation data) 와 테스트데이터(test data) 셋으로 분리\r\n",
        "- train_test_split(test_size, train_size, shuffle, random_state)\r\n",
        "- shuffle = False -> 정확도 저하"
      ]
    },
    {
      "cell_type": "code",
      "metadata": {
        "colab": {
          "base_uri": "https://localhost:8080/"
        },
        "id": "n2oHef7adb_7",
        "outputId": "7caa1cc7-3757-453b-8d0c-78a6cf6cabe7"
      },
      "source": [
        "from sklearn.model_selection import train_test_split\r\n",
        "X_train, X_test, y_train, y_test = train_test_split(iris_data, iris_label, \r\n",
        "                                                     test_size = 0.2, \r\n",
        "                                                    shuffle = True,\r\n",
        "                                                     random_state = 20)\r\n",
        "print('train data\\n : ', X_train)\r\n",
        "print('train label\\n : ', y_train)\r\n",
        "print('test data\\n : ', X_test)\r\n",
        "print('test label\\n : ', y_test)\r\n"
      ],
      "execution_count": 27,
      "outputs": [
        {
          "output_type": "stream",
          "text": [
            "train data\n",
            " :  [[5.7 3.  4.2 1.2]\n",
            " [5.6 3.  4.1 1.3]\n",
            " [5.1 3.5 1.4 0.2]\n",
            " [5.1 3.8 1.6 0.2]\n",
            " [4.8 3.4 1.6 0.2]\n",
            " [4.9 2.5 4.5 1.7]\n",
            " [6.  3.4 4.5 1.6]\n",
            " [4.9 3.  1.4 0.2]\n",
            " [6.4 3.2 4.5 1.5]\n",
            " [7.4 2.8 6.1 1.9]\n",
            " [5.7 2.8 4.5 1.3]\n",
            " [6.1 2.6 5.6 1.4]\n",
            " [4.9 3.6 1.4 0.1]\n",
            " [6.7 3.1 4.4 1.4]\n",
            " [6.3 3.3 4.7 1.6]\n",
            " [4.7 3.2 1.3 0.2]\n",
            " [5.4 3.9 1.7 0.4]\n",
            " [5.  3.3 1.4 0.2]\n",
            " [5.7 2.5 5.  2. ]\n",
            " [5.1 3.8 1.9 0.4]\n",
            " [6.4 2.8 5.6 2.2]\n",
            " [6.2 3.4 5.4 2.3]\n",
            " [5.4 3.4 1.5 0.4]\n",
            " [6.3 3.3 6.  2.5]\n",
            " [6.  2.2 4.  1. ]\n",
            " [5.6 2.9 3.6 1.3]\n",
            " [5.6 3.  4.5 1.5]\n",
            " [4.5 2.3 1.3 0.3]\n",
            " [5.1 3.4 1.5 0.2]\n",
            " [5.5 2.4 3.8 1.1]\n",
            " [6.2 2.9 4.3 1.3]\n",
            " [5.8 2.6 4.  1.2]\n",
            " [5.6 2.5 3.9 1.1]\n",
            " [6.7 3.1 4.7 1.5]\n",
            " [6.5 2.8 4.6 1.5]\n",
            " [5.7 2.9 4.2 1.3]\n",
            " [5.1 3.3 1.7 0.5]\n",
            " [6.2 2.2 4.5 1.5]\n",
            " [6.3 2.3 4.4 1.3]\n",
            " [4.9 3.1 1.5 0.1]\n",
            " [4.4 3.  1.3 0.2]\n",
            " [5.4 3.  4.5 1.5]\n",
            " [5.5 2.3 4.  1.3]\n",
            " [6.1 3.  4.6 1.4]\n",
            " [5.1 3.8 1.5 0.3]\n",
            " [5.3 3.7 1.5 0.2]\n",
            " [6.4 3.2 5.3 2.3]\n",
            " [5.5 3.5 1.3 0.2]\n",
            " [4.8 3.1 1.6 0.2]\n",
            " [5.  2.  3.5 1. ]\n",
            " [6.  3.  4.8 1.8]\n",
            " [5.8 2.7 5.1 1.9]\n",
            " [5.6 2.8 4.9 2. ]\n",
            " [6.3 2.9 5.6 1.8]\n",
            " [6.4 2.8 5.6 2.1]\n",
            " [7.1 3.  5.9 2.1]\n",
            " [5.8 2.7 3.9 1.2]\n",
            " [6.5 3.  5.5 1.8]\n",
            " [7.7 3.  6.1 2.3]\n",
            " [7.2 3.6 6.1 2.5]\n",
            " [4.4 2.9 1.4 0.2]\n",
            " [6.8 3.  5.5 2.1]\n",
            " [5.2 3.5 1.5 0.2]\n",
            " [5.  3.6 1.4 0.2]\n",
            " [5.8 4.  1.2 0.2]\n",
            " [6.7 3.  5.2 2.3]\n",
            " [6.9 3.1 4.9 1.5]\n",
            " [5.9 3.2 4.8 1.8]\n",
            " [6.9 3.1 5.4 2.1]\n",
            " [6.3 2.7 4.9 1.8]\n",
            " [5.6 2.7 4.2 1.3]\n",
            " [4.4 3.2 1.3 0.2]\n",
            " [6.1 3.  4.9 1.8]\n",
            " [5.5 4.2 1.4 0.2]\n",
            " [5.  2.3 3.3 1. ]\n",
            " [7.7 3.8 6.7 2.2]\n",
            " [4.8 3.4 1.9 0.2]\n",
            " [6.  2.9 4.5 1.5]\n",
            " [6.1 2.9 4.7 1.4]\n",
            " [6.2 2.8 4.8 1.8]\n",
            " [4.8 3.  1.4 0.3]\n",
            " [4.7 3.2 1.6 0.2]\n",
            " [7.2 3.2 6.  1.8]\n",
            " [6.7 3.3 5.7 2.5]\n",
            " [5.2 2.7 3.9 1.4]\n",
            " [5.5 2.6 4.4 1.2]\n",
            " [5.7 2.6 3.5 1. ]\n",
            " [6.7 3.3 5.7 2.1]\n",
            " [6.7 3.1 5.6 2.4]\n",
            " [5.  3.5 1.6 0.6]\n",
            " [6.9 3.2 5.7 2.3]\n",
            " [5.1 3.5 1.4 0.3]\n",
            " [6.7 3.  5.  1.7]\n",
            " [4.6 3.1 1.5 0.2]\n",
            " [5.7 3.8 1.7 0.3]\n",
            " [6.3 2.5 5.  1.9]\n",
            " [6.3 3.4 5.6 2.4]\n",
            " [7.3 2.9 6.3 1.8]\n",
            " [5.4 3.7 1.5 0.2]\n",
            " [5.2 4.1 1.5 0.1]\n",
            " [6.5 3.2 5.1 2. ]\n",
            " [6.  2.7 5.1 1.6]\n",
            " [5.9 3.  4.2 1.5]\n",
            " [7.9 3.8 6.4 2. ]\n",
            " [5.  3.  1.6 0.2]\n",
            " [6.9 3.1 5.1 2.3]\n",
            " [4.6 3.4 1.4 0.3]\n",
            " [5.  3.4 1.5 0.2]\n",
            " [5.8 2.7 5.1 1.9]\n",
            " [7.6 3.  6.6 2.1]\n",
            " [5.4 3.9 1.3 0.4]\n",
            " [5.  3.4 1.6 0.4]\n",
            " [5.  3.5 1.3 0.3]\n",
            " [7.7 2.6 6.9 2.3]\n",
            " [6.1 2.8 4.  1.3]\n",
            " [4.6 3.6 1.  0.2]\n",
            " [6.6 3.  4.4 1.4]\n",
            " [6.4 3.1 5.5 1.8]\n",
            " [5.7 4.4 1.5 0.4]\n",
            " [5.7 2.8 4.1 1.3]]\n",
            "train label\n",
            " :  [1 1 0 0 0 2 1 0 1 2 1 2 0 1 1 0 0 0 2 0 2 2 0 2 1 1 1 0 0 1 1 1 1 1 1 1 0\n",
            " 1 1 0 0 1 1 1 0 0 2 0 0 1 2 2 2 2 2 2 1 2 2 2 0 2 0 0 0 2 1 1 2 2 1 0 2 0\n",
            " 1 2 0 1 1 2 0 0 2 2 1 1 1 2 2 0 2 0 1 0 0 2 2 2 0 0 2 1 1 2 0 2 0 0 2 2 0\n",
            " 0 0 2 1 0 1 2 0 1]\n",
            "test data\n",
            " :  [[4.6 3.2 1.4 0.2]\n",
            " [6.1 2.8 4.7 1.2]\n",
            " [6.4 2.9 4.3 1.3]\n",
            " [7.2 3.  5.8 1.6]\n",
            " [5.8 2.7 4.1 1. ]\n",
            " [5.5 2.5 4.  1.3]\n",
            " [6.8 3.2 5.9 2.3]\n",
            " [5.1 3.7 1.5 0.4]\n",
            " [6.7 2.5 5.8 1.8]\n",
            " [4.8 3.  1.4 0.1]\n",
            " [6.5 3.  5.2 2. ]\n",
            " [6.8 2.8 4.8 1.4]\n",
            " [6.  2.2 5.  1.5]\n",
            " [5.  3.2 1.2 0.2]\n",
            " [5.2 3.4 1.4 0.2]\n",
            " [7.7 2.8 6.7 2. ]\n",
            " [4.3 3.  1.1 0.1]\n",
            " [6.6 2.9 4.6 1.3]\n",
            " [5.8 2.8 5.1 2.4]\n",
            " [4.9 2.4 3.3 1. ]\n",
            " [7.  3.2 4.7 1.4]\n",
            " [5.9 3.  5.1 1.8]\n",
            " [6.4 2.7 5.3 1.9]\n",
            " [5.4 3.4 1.7 0.2]\n",
            " [6.3 2.5 4.9 1.5]\n",
            " [5.5 2.4 3.7 1. ]\n",
            " [5.1 2.5 3.  1.1]\n",
            " [4.9 3.1 1.5 0.2]\n",
            " [6.5 3.  5.8 2.2]\n",
            " [6.3 2.8 5.1 1.5]]\n",
            "test label\n",
            " :  [0 1 1 2 1 1 2 0 2 0 2 1 2 0 0 2 0 1 2 1 1 2 2 0 1 1 1 0 2 2]\n"
          ],
          "name": "stdout"
        }
      ]
    },
    {
      "cell_type": "markdown",
      "metadata": {
        "id": "PaG4g-T8g_3c"
      },
      "source": [
        "- 알고리즘(의사결정트리)을 활용한 학습과 분류"
      ]
    },
    {
      "cell_type": "code",
      "metadata": {
        "colab": {
          "base_uri": "https://localhost:8080/"
        },
        "id": "9LXBDsOHfES2",
        "outputId": "c0cdbe19-8ed9-4c27-c883-014a688932cb"
      },
      "source": [
        "from sklearn.tree import DecisionTreeClassifier\r\n",
        "\r\n",
        "dt_clf = DecisionTreeClassifier(random_state = 20)\r\n",
        "# dt_clf\r\n",
        "\r\n",
        "# 학습(fit)\r\n",
        "dt_clf.fit(X_train, y_train)"
      ],
      "execution_count": 28,
      "outputs": [
        {
          "output_type": "execute_result",
          "data": {
            "text/plain": [
              "DecisionTreeClassifier(ccp_alpha=0.0, class_weight=None, criterion='gini',\n",
              "                       max_depth=None, max_features=None, max_leaf_nodes=None,\n",
              "                       min_impurity_decrease=0.0, min_impurity_split=None,\n",
              "                       min_samples_leaf=1, min_samples_split=2,\n",
              "                       min_weight_fraction_leaf=0.0, presort='deprecated',\n",
              "                       random_state=20, splitter='best')"
            ]
          },
          "metadata": {
            "tags": []
          },
          "execution_count": 28
        }
      ]
    },
    {
      "cell_type": "markdown",
      "metadata": {
        "id": "pVwIR3UVjs2n"
      },
      "source": [
        "- 예측은 학습데이터가 아닌 다른 데이터(test data)를 이용"
      ]
    },
    {
      "cell_type": "code",
      "metadata": {
        "colab": {
          "base_uri": "https://localhost:8080/"
        },
        "id": "qv_-sYs-g-5T",
        "outputId": "1e819a25-9fe4-438e-a68f-edf79bef4315"
      },
      "source": [
        "prediction = dt_clf.predict(X_test)\r\n",
        "print('predict\\n', prediction)\r\n",
        "print('y_test\\n', y_test)"
      ],
      "execution_count": 29,
      "outputs": [
        {
          "output_type": "stream",
          "text": [
            "predict\n",
            " [0 1 1 2 1 1 2 0 2 0 2 1 1 0 0 2 0 1 2 1 1 2 2 0 1 1 1 0 2 1]\n",
            "y_test\n",
            " [0 1 1 2 1 1 2 0 2 0 2 1 2 0 0 2 0 1 2 1 1 2 2 0 1 1 1 0 2 2]\n"
          ],
          "name": "stdout"
        }
      ]
    },
    {
      "cell_type": "markdown",
      "metadata": {
        "id": "uJwLLafHohvn"
      },
      "source": [
        "- 예측 정확도 평가"
      ]
    },
    {
      "cell_type": "code",
      "metadata": {
        "colab": {
          "base_uri": "https://localhost:8080/"
        },
        "id": "dv77Gh55oCPf",
        "outputId": "04dcd111-e47f-4795-fc23-7c641bfd88b6"
      },
      "source": [
        "from sklearn.metrics import accuracy_score\r\n",
        "print('예측 정확도 : {0:.2f}'.format(accuracy_score(y_test, prediction)))"
      ],
      "execution_count": 30,
      "outputs": [
        {
          "output_type": "stream",
          "text": [
            "예측 정확도 : 0.93\n"
          ],
          "name": "stdout"
        }
      ]
    },
    {
      "cell_type": "markdown",
      "metadata": {
        "id": "lJsp06FIwRD2"
      },
      "source": [
        "#### 교차검증(Cross Validation)"
      ]
    },
    {
      "cell_type": "markdown",
      "metadata": {
        "id": "S6wScv5twxnh"
      },
      "source": [
        "- KFold 방식"
      ]
    },
    {
      "cell_type": "code",
      "metadata": {
        "id": "GN9s0WgxwTqN"
      },
      "source": [
        "import numpy as np\r\n",
        "import pandas as pd\r\n",
        "from sklearn.datasets import load_iris\r\n",
        "from sklearn.model_selection import train_test_split\r\n",
        "from sklearn.metrics import accuracy_score\r\n",
        "\r\n",
        "from sklearn.model_selection import KFold"
      ],
      "execution_count": 32,
      "outputs": []
    },
    {
      "cell_type": "code",
      "metadata": {
        "colab": {
          "base_uri": "https://localhost:8080/"
        },
        "id": "EvhsT8Szw3K0",
        "outputId": "43d645fc-6e45-45d5-e584-8fd489046283"
      },
      "source": [
        "fold_iris = load_iris()\r\n",
        "fold_iris"
      ],
      "execution_count": 34,
      "outputs": [
        {
          "output_type": "execute_result",
          "data": {
            "text/plain": [
              "{'DESCR': '.. _iris_dataset:\\n\\nIris plants dataset\\n--------------------\\n\\n**Data Set Characteristics:**\\n\\n    :Number of Instances: 150 (50 in each of three classes)\\n    :Number of Attributes: 4 numeric, predictive attributes and the class\\n    :Attribute Information:\\n        - sepal length in cm\\n        - sepal width in cm\\n        - petal length in cm\\n        - petal width in cm\\n        - class:\\n                - Iris-Setosa\\n                - Iris-Versicolour\\n                - Iris-Virginica\\n                \\n    :Summary Statistics:\\n\\n    ============== ==== ==== ======= ===== ====================\\n                    Min  Max   Mean    SD   Class Correlation\\n    ============== ==== ==== ======= ===== ====================\\n    sepal length:   4.3  7.9   5.84   0.83    0.7826\\n    sepal width:    2.0  4.4   3.05   0.43   -0.4194\\n    petal length:   1.0  6.9   3.76   1.76    0.9490  (high!)\\n    petal width:    0.1  2.5   1.20   0.76    0.9565  (high!)\\n    ============== ==== ==== ======= ===== ====================\\n\\n    :Missing Attribute Values: None\\n    :Class Distribution: 33.3% for each of 3 classes.\\n    :Creator: R.A. Fisher\\n    :Donor: Michael Marshall (MARSHALL%PLU@io.arc.nasa.gov)\\n    :Date: July, 1988\\n\\nThe famous Iris database, first used by Sir R.A. Fisher. The dataset is taken\\nfrom Fisher\\'s paper. Note that it\\'s the same as in R, but not as in the UCI\\nMachine Learning Repository, which has two wrong data points.\\n\\nThis is perhaps the best known database to be found in the\\npattern recognition literature.  Fisher\\'s paper is a classic in the field and\\nis referenced frequently to this day.  (See Duda & Hart, for example.)  The\\ndata set contains 3 classes of 50 instances each, where each class refers to a\\ntype of iris plant.  One class is linearly separable from the other 2; the\\nlatter are NOT linearly separable from each other.\\n\\n.. topic:: References\\n\\n   - Fisher, R.A. \"The use of multiple measurements in taxonomic problems\"\\n     Annual Eugenics, 7, Part II, 179-188 (1936); also in \"Contributions to\\n     Mathematical Statistics\" (John Wiley, NY, 1950).\\n   - Duda, R.O., & Hart, P.E. (1973) Pattern Classification and Scene Analysis.\\n     (Q327.D83) John Wiley & Sons.  ISBN 0-471-22361-1.  See page 218.\\n   - Dasarathy, B.V. (1980) \"Nosing Around the Neighborhood: A New System\\n     Structure and Classification Rule for Recognition in Partially Exposed\\n     Environments\".  IEEE Transactions on Pattern Analysis and Machine\\n     Intelligence, Vol. PAMI-2, No. 1, 67-71.\\n   - Gates, G.W. (1972) \"The Reduced Nearest Neighbor Rule\".  IEEE Transactions\\n     on Information Theory, May 1972, 431-433.\\n   - See also: 1988 MLC Proceedings, 54-64.  Cheeseman et al\"s AUTOCLASS II\\n     conceptual clustering system finds 3 classes in the data.\\n   - Many, many more ...',\n",
              " 'data': array([[5.1, 3.5, 1.4, 0.2],\n",
              "        [4.9, 3. , 1.4, 0.2],\n",
              "        [4.7, 3.2, 1.3, 0.2],\n",
              "        [4.6, 3.1, 1.5, 0.2],\n",
              "        [5. , 3.6, 1.4, 0.2],\n",
              "        [5.4, 3.9, 1.7, 0.4],\n",
              "        [4.6, 3.4, 1.4, 0.3],\n",
              "        [5. , 3.4, 1.5, 0.2],\n",
              "        [4.4, 2.9, 1.4, 0.2],\n",
              "        [4.9, 3.1, 1.5, 0.1],\n",
              "        [5.4, 3.7, 1.5, 0.2],\n",
              "        [4.8, 3.4, 1.6, 0.2],\n",
              "        [4.8, 3. , 1.4, 0.1],\n",
              "        [4.3, 3. , 1.1, 0.1],\n",
              "        [5.8, 4. , 1.2, 0.2],\n",
              "        [5.7, 4.4, 1.5, 0.4],\n",
              "        [5.4, 3.9, 1.3, 0.4],\n",
              "        [5.1, 3.5, 1.4, 0.3],\n",
              "        [5.7, 3.8, 1.7, 0.3],\n",
              "        [5.1, 3.8, 1.5, 0.3],\n",
              "        [5.4, 3.4, 1.7, 0.2],\n",
              "        [5.1, 3.7, 1.5, 0.4],\n",
              "        [4.6, 3.6, 1. , 0.2],\n",
              "        [5.1, 3.3, 1.7, 0.5],\n",
              "        [4.8, 3.4, 1.9, 0.2],\n",
              "        [5. , 3. , 1.6, 0.2],\n",
              "        [5. , 3.4, 1.6, 0.4],\n",
              "        [5.2, 3.5, 1.5, 0.2],\n",
              "        [5.2, 3.4, 1.4, 0.2],\n",
              "        [4.7, 3.2, 1.6, 0.2],\n",
              "        [4.8, 3.1, 1.6, 0.2],\n",
              "        [5.4, 3.4, 1.5, 0.4],\n",
              "        [5.2, 4.1, 1.5, 0.1],\n",
              "        [5.5, 4.2, 1.4, 0.2],\n",
              "        [4.9, 3.1, 1.5, 0.2],\n",
              "        [5. , 3.2, 1.2, 0.2],\n",
              "        [5.5, 3.5, 1.3, 0.2],\n",
              "        [4.9, 3.6, 1.4, 0.1],\n",
              "        [4.4, 3. , 1.3, 0.2],\n",
              "        [5.1, 3.4, 1.5, 0.2],\n",
              "        [5. , 3.5, 1.3, 0.3],\n",
              "        [4.5, 2.3, 1.3, 0.3],\n",
              "        [4.4, 3.2, 1.3, 0.2],\n",
              "        [5. , 3.5, 1.6, 0.6],\n",
              "        [5.1, 3.8, 1.9, 0.4],\n",
              "        [4.8, 3. , 1.4, 0.3],\n",
              "        [5.1, 3.8, 1.6, 0.2],\n",
              "        [4.6, 3.2, 1.4, 0.2],\n",
              "        [5.3, 3.7, 1.5, 0.2],\n",
              "        [5. , 3.3, 1.4, 0.2],\n",
              "        [7. , 3.2, 4.7, 1.4],\n",
              "        [6.4, 3.2, 4.5, 1.5],\n",
              "        [6.9, 3.1, 4.9, 1.5],\n",
              "        [5.5, 2.3, 4. , 1.3],\n",
              "        [6.5, 2.8, 4.6, 1.5],\n",
              "        [5.7, 2.8, 4.5, 1.3],\n",
              "        [6.3, 3.3, 4.7, 1.6],\n",
              "        [4.9, 2.4, 3.3, 1. ],\n",
              "        [6.6, 2.9, 4.6, 1.3],\n",
              "        [5.2, 2.7, 3.9, 1.4],\n",
              "        [5. , 2. , 3.5, 1. ],\n",
              "        [5.9, 3. , 4.2, 1.5],\n",
              "        [6. , 2.2, 4. , 1. ],\n",
              "        [6.1, 2.9, 4.7, 1.4],\n",
              "        [5.6, 2.9, 3.6, 1.3],\n",
              "        [6.7, 3.1, 4.4, 1.4],\n",
              "        [5.6, 3. , 4.5, 1.5],\n",
              "        [5.8, 2.7, 4.1, 1. ],\n",
              "        [6.2, 2.2, 4.5, 1.5],\n",
              "        [5.6, 2.5, 3.9, 1.1],\n",
              "        [5.9, 3.2, 4.8, 1.8],\n",
              "        [6.1, 2.8, 4. , 1.3],\n",
              "        [6.3, 2.5, 4.9, 1.5],\n",
              "        [6.1, 2.8, 4.7, 1.2],\n",
              "        [6.4, 2.9, 4.3, 1.3],\n",
              "        [6.6, 3. , 4.4, 1.4],\n",
              "        [6.8, 2.8, 4.8, 1.4],\n",
              "        [6.7, 3. , 5. , 1.7],\n",
              "        [6. , 2.9, 4.5, 1.5],\n",
              "        [5.7, 2.6, 3.5, 1. ],\n",
              "        [5.5, 2.4, 3.8, 1.1],\n",
              "        [5.5, 2.4, 3.7, 1. ],\n",
              "        [5.8, 2.7, 3.9, 1.2],\n",
              "        [6. , 2.7, 5.1, 1.6],\n",
              "        [5.4, 3. , 4.5, 1.5],\n",
              "        [6. , 3.4, 4.5, 1.6],\n",
              "        [6.7, 3.1, 4.7, 1.5],\n",
              "        [6.3, 2.3, 4.4, 1.3],\n",
              "        [5.6, 3. , 4.1, 1.3],\n",
              "        [5.5, 2.5, 4. , 1.3],\n",
              "        [5.5, 2.6, 4.4, 1.2],\n",
              "        [6.1, 3. , 4.6, 1.4],\n",
              "        [5.8, 2.6, 4. , 1.2],\n",
              "        [5. , 2.3, 3.3, 1. ],\n",
              "        [5.6, 2.7, 4.2, 1.3],\n",
              "        [5.7, 3. , 4.2, 1.2],\n",
              "        [5.7, 2.9, 4.2, 1.3],\n",
              "        [6.2, 2.9, 4.3, 1.3],\n",
              "        [5.1, 2.5, 3. , 1.1],\n",
              "        [5.7, 2.8, 4.1, 1.3],\n",
              "        [6.3, 3.3, 6. , 2.5],\n",
              "        [5.8, 2.7, 5.1, 1.9],\n",
              "        [7.1, 3. , 5.9, 2.1],\n",
              "        [6.3, 2.9, 5.6, 1.8],\n",
              "        [6.5, 3. , 5.8, 2.2],\n",
              "        [7.6, 3. , 6.6, 2.1],\n",
              "        [4.9, 2.5, 4.5, 1.7],\n",
              "        [7.3, 2.9, 6.3, 1.8],\n",
              "        [6.7, 2.5, 5.8, 1.8],\n",
              "        [7.2, 3.6, 6.1, 2.5],\n",
              "        [6.5, 3.2, 5.1, 2. ],\n",
              "        [6.4, 2.7, 5.3, 1.9],\n",
              "        [6.8, 3. , 5.5, 2.1],\n",
              "        [5.7, 2.5, 5. , 2. ],\n",
              "        [5.8, 2.8, 5.1, 2.4],\n",
              "        [6.4, 3.2, 5.3, 2.3],\n",
              "        [6.5, 3. , 5.5, 1.8],\n",
              "        [7.7, 3.8, 6.7, 2.2],\n",
              "        [7.7, 2.6, 6.9, 2.3],\n",
              "        [6. , 2.2, 5. , 1.5],\n",
              "        [6.9, 3.2, 5.7, 2.3],\n",
              "        [5.6, 2.8, 4.9, 2. ],\n",
              "        [7.7, 2.8, 6.7, 2. ],\n",
              "        [6.3, 2.7, 4.9, 1.8],\n",
              "        [6.7, 3.3, 5.7, 2.1],\n",
              "        [7.2, 3.2, 6. , 1.8],\n",
              "        [6.2, 2.8, 4.8, 1.8],\n",
              "        [6.1, 3. , 4.9, 1.8],\n",
              "        [6.4, 2.8, 5.6, 2.1],\n",
              "        [7.2, 3. , 5.8, 1.6],\n",
              "        [7.4, 2.8, 6.1, 1.9],\n",
              "        [7.9, 3.8, 6.4, 2. ],\n",
              "        [6.4, 2.8, 5.6, 2.2],\n",
              "        [6.3, 2.8, 5.1, 1.5],\n",
              "        [6.1, 2.6, 5.6, 1.4],\n",
              "        [7.7, 3. , 6.1, 2.3],\n",
              "        [6.3, 3.4, 5.6, 2.4],\n",
              "        [6.4, 3.1, 5.5, 1.8],\n",
              "        [6. , 3. , 4.8, 1.8],\n",
              "        [6.9, 3.1, 5.4, 2.1],\n",
              "        [6.7, 3.1, 5.6, 2.4],\n",
              "        [6.9, 3.1, 5.1, 2.3],\n",
              "        [5.8, 2.7, 5.1, 1.9],\n",
              "        [6.8, 3.2, 5.9, 2.3],\n",
              "        [6.7, 3.3, 5.7, 2.5],\n",
              "        [6.7, 3. , 5.2, 2.3],\n",
              "        [6.3, 2.5, 5. , 1.9],\n",
              "        [6.5, 3. , 5.2, 2. ],\n",
              "        [6.2, 3.4, 5.4, 2.3],\n",
              "        [5.9, 3. , 5.1, 1.8]]),\n",
              " 'feature_names': ['sepal length (cm)',\n",
              "  'sepal width (cm)',\n",
              "  'petal length (cm)',\n",
              "  'petal width (cm)'],\n",
              " 'filename': '/usr/local/lib/python3.7/dist-packages/sklearn/datasets/data/iris.csv',\n",
              " 'target': array([0, 0, 0, 0, 0, 0, 0, 0, 0, 0, 0, 0, 0, 0, 0, 0, 0, 0, 0, 0, 0, 0,\n",
              "        0, 0, 0, 0, 0, 0, 0, 0, 0, 0, 0, 0, 0, 0, 0, 0, 0, 0, 0, 0, 0, 0,\n",
              "        0, 0, 0, 0, 0, 0, 1, 1, 1, 1, 1, 1, 1, 1, 1, 1, 1, 1, 1, 1, 1, 1,\n",
              "        1, 1, 1, 1, 1, 1, 1, 1, 1, 1, 1, 1, 1, 1, 1, 1, 1, 1, 1, 1, 1, 1,\n",
              "        1, 1, 1, 1, 1, 1, 1, 1, 1, 1, 1, 1, 2, 2, 2, 2, 2, 2, 2, 2, 2, 2,\n",
              "        2, 2, 2, 2, 2, 2, 2, 2, 2, 2, 2, 2, 2, 2, 2, 2, 2, 2, 2, 2, 2, 2,\n",
              "        2, 2, 2, 2, 2, 2, 2, 2, 2, 2, 2, 2, 2, 2, 2, 2, 2, 2]),\n",
              " 'target_names': array(['setosa', 'versicolor', 'virginica'], dtype='<U10')}"
            ]
          },
          "metadata": {
            "tags": []
          },
          "execution_count": 34
        }
      ]
    },
    {
      "cell_type": "code",
      "metadata": {
        "colab": {
          "base_uri": "https://localhost:8080/"
        },
        "id": "3laNq6BuF90r",
        "outputId": "c6a7a574-5b11-422a-929e-f80de60513b5"
      },
      "source": [
        "features = fold_iris.data\r\n",
        "label = fold_iris.target\r\n",
        "\r\n",
        "fold_df_clf = DecisionTreeClassifier()\r\n",
        "fold_df_clf"
      ],
      "execution_count": 51,
      "outputs": [
        {
          "output_type": "execute_result",
          "data": {
            "text/plain": [
              "DecisionTreeClassifier(ccp_alpha=0.0, class_weight=None, criterion='gini',\n",
              "                       max_depth=None, max_features=None, max_leaf_nodes=None,\n",
              "                       min_impurity_decrease=0.0, min_impurity_split=None,\n",
              "                       min_samples_leaf=1, min_samples_split=2,\n",
              "                       min_weight_fraction_leaf=0.0, presort='deprecated',\n",
              "                       random_state=None, splitter='best')"
            ]
          },
          "metadata": {
            "tags": []
          },
          "execution_count": 51
        }
      ]
    },
    {
      "cell_type": "code",
      "metadata": {
        "id": "w9WMTgSzGj3M"
      },
      "source": [
        "# 5개의 폴드셋을 분리하여 각 폴드셋별 정확도를 리스트로 생성\r\n",
        "cv_accuracy = []\r\n",
        "kfold = KFold(n_splits = 5)"
      ],
      "execution_count": 36,
      "outputs": []
    },
    {
      "cell_type": "code",
      "metadata": {
        "colab": {
          "base_uri": "https://localhost:8080/"
        },
        "id": "-V9DChD8HEkq",
        "outputId": "03a1e189-fc4d-4c4b-b7b7-9b7aa8ee9c3a"
      },
      "source": [
        "features.shape"
      ],
      "execution_count": 37,
      "outputs": [
        {
          "output_type": "execute_result",
          "data": {
            "text/plain": [
              "(150, 4)"
            ]
          },
          "metadata": {
            "tags": []
          },
          "execution_count": 37
        }
      ]
    },
    {
      "cell_type": "code",
      "metadata": {
        "colab": {
          "base_uri": "https://localhost:8080/"
        },
        "id": "dM7lD8JsHaDr",
        "outputId": "30adb5b0-ab0e-4d93-b242-94bd31c13aa0"
      },
      "source": [
        "n_iter = 0\r\n",
        "for train_idx, test_idx in kfold.split(features) :\r\n",
        "    # print(len(train_idx), len(test_idx))\r\n",
        "    X_train, X_val = features[train_idx], features[test_idx]\r\n",
        "    y_train, y_val = label[train_idx], label[test_idx]\r\n",
        "\r\n",
        "    # 학습 및 예측\r\n",
        "    fold_df_clf.fit(X_train, y_train)\r\n",
        "    pred = fold_df_clf.predict(X_val)\r\n",
        "    n_iter += 1\r\n",
        "\r\n",
        "    # 검증정확도 측정\r\n",
        "    acc = np.round(accuracy_score(y_val, pred),4)\r\n",
        "    print('{} 교차검증 정확도 : {}, 학습 데이터 크기 : {}, 검증 데이터 크기 : {}'.format(n_iter, acc, X_train.shape[0], X_val.shape[0]))  \r\n",
        "    print('{} 검증셋 인덱스 : {}'.format(n_iter, X_val.shape[0]))\r\n",
        "\r\n",
        "    cv_accuracy.append(acc) \r\n",
        "print('평균 검증 정확도 : {}', np.mean(cv_accuracy))\r\n"
      ],
      "execution_count": 40,
      "outputs": [
        {
          "output_type": "stream",
          "text": [
            "1 교차검증 정확도 : 1.0, 학습 데이터 크기 : 120, 검증 데이터 크기 : 30\n",
            "1 검증셋 인덱스 : 30\n",
            "2 교차검증 정확도 : 1.0, 학습 데이터 크기 : 120, 검증 데이터 크기 : 30\n",
            "2 검증셋 인덱스 : 30\n",
            "3 교차검증 정확도 : 0.9, 학습 데이터 크기 : 120, 검증 데이터 크기 : 30\n",
            "3 검증셋 인덱스 : 30\n",
            "4 교차검증 정확도 : 0.9333, 학습 데이터 크기 : 120, 검증 데이터 크기 : 30\n",
            "4 검증셋 인덱스 : 30\n",
            "5 교차검증 정확도 : 0.7667, 학습 데이터 크기 : 120, 검증 데이터 크기 : 30\n",
            "5 검증셋 인덱스 : 30\n",
            "평균 검증 정확도 : {} 0.9199999999999999\n"
          ],
          "name": "stdout"
        }
      ]
    },
    {
      "cell_type": "markdown",
      "metadata": {
        "id": "8gk3CCyZMO6g"
      },
      "source": [
        "- Stratified KFold : 불균형한 분포를 가진 데이터 집합에 적용하는 CV\r\n",
        "- 기존 KFold는 레이블값의 분포를 반영하지 않기 때문에 상황에 따라서 예측정확도가 0"
      ]
    },
    {
      "cell_type": "code",
      "metadata": {
        "colab": {
          "base_uri": "https://localhost:8080/"
        },
        "id": "zp99NhkHHF-w",
        "outputId": "d14170c5-4457-4552-9c14-e69acb287c3c"
      },
      "source": [
        "fold_iris_df = pd.DataFrame(data = fold_iris.data,\r\n",
        "                            columns = fold_iris.feature_names)\r\n",
        "fold_iris_df['target'] = fold_iris.target\r\n",
        "fold_iris_df['target'].value_counts() # 빈도수 확인"
      ],
      "execution_count": 43,
      "outputs": [
        {
          "output_type": "execute_result",
          "data": {
            "text/plain": [
              "2    50\n",
              "1    50\n",
              "0    50\n",
              "Name: target, dtype: int64"
            ]
          },
          "metadata": {
            "tags": []
          },
          "execution_count": 43
        }
      ]
    },
    {
      "cell_type": "code",
      "metadata": {
        "colab": {
          "base_uri": "https://localhost:8080/"
        },
        "id": "k_P22Q1rTQtc",
        "outputId": "0bbce549-6238-48c1-8592-b475923e02d6"
      },
      "source": [
        "# 레이블값의 분포를 반영하지 못하는 문제\r\n",
        "kfold = KFold(n_splits = 3)\r\n",
        "n_iter = 0\r\n",
        "for train_idx, test_idx in kfold.split(fold_iris_df) :\r\n",
        "    label_train = fold_iris_df['target'].iloc[train_idx]\r\n",
        "    label_val = fold_iris_df['target'].iloc[test_idx]\r\n",
        "    n_iter += 1\r\n",
        "    print('교차 검증{}'.format(n_iter))\r\n",
        "    print('학습 레이블 데이터 분포', label_train.value_counts())\r\n",
        "    print('검증 레이블 데이터 분포', label_val.value_counts())\r\n",
        "    print()\r\n",
        "    "
      ],
      "execution_count": 45,
      "outputs": [
        {
          "output_type": "stream",
          "text": [
            "교차 검증1\n",
            "학습 레이블 데이터 분포 2    50\n",
            "1    50\n",
            "Name: target, dtype: int64\n",
            "검증 레이블 데이터 분포 0    50\n",
            "Name: target, dtype: int64\n",
            "\n",
            "교차 검증2\n",
            "학습 레이블 데이터 분포 2    50\n",
            "0    50\n",
            "Name: target, dtype: int64\n",
            "검증 레이블 데이터 분포 1    50\n",
            "Name: target, dtype: int64\n",
            "\n",
            "교차 검증3\n",
            "학습 레이블 데이터 분포 1    50\n",
            "0    50\n",
            "Name: target, dtype: int64\n",
            "검증 레이블 데이터 분포 2    50\n",
            "Name: target, dtype: int64\n",
            "\n"
          ],
          "name": "stdout"
        }
      ]
    },
    {
      "cell_type": "code",
      "metadata": {
        "colab": {
          "base_uri": "https://localhost:8080/"
        },
        "id": "TsZaRMM1U6bd",
        "outputId": "bd6c8b1f-4200-4882-aa92-63d029dc8392"
      },
      "source": [
        "# 위의 문제 해결\r\n",
        "from sklearn.model_selection import StratifiedKFold\r\n",
        "\r\n",
        "skf = StratifiedKFold(n_splits=3)\r\n",
        "n_iter = 0\r\n",
        "\r\n",
        "for train_idx, test_idx in skf.split(fold_iris_df, fold_iris_df['target']) :\r\n",
        "    label_train = fold_iris_df['target'].iloc[train_idx]\r\n",
        "    label_val = fold_iris_df['target'].iloc[test_idx]\r\n",
        "    n_iter += 1\r\n",
        "    print('교차 검증{}'.format(n_iter))\r\n",
        "    print('학습 레이블 데이터 분포', label_train.value_counts())\r\n",
        "    print('검증 레이블 데이터 분포', label_val.value_counts())\r\n",
        "    print()"
      ],
      "execution_count": 48,
      "outputs": [
        {
          "output_type": "stream",
          "text": [
            "교차 검증1\n",
            "학습 레이블 데이터 분포 2    34\n",
            "1    33\n",
            "0    33\n",
            "Name: target, dtype: int64\n",
            "검증 레이블 데이터 분포 1    17\n",
            "0    17\n",
            "2    16\n",
            "Name: target, dtype: int64\n",
            "\n",
            "교차 검증2\n",
            "학습 레이블 데이터 분포 1    34\n",
            "2    33\n",
            "0    33\n",
            "Name: target, dtype: int64\n",
            "검증 레이블 데이터 분포 2    17\n",
            "0    17\n",
            "1    16\n",
            "Name: target, dtype: int64\n",
            "\n",
            "교차 검증3\n",
            "학습 레이블 데이터 분포 0    34\n",
            "2    33\n",
            "1    33\n",
            "Name: target, dtype: int64\n",
            "검증 레이블 데이터 분포 2    17\n",
            "1    17\n",
            "0    16\n",
            "Name: target, dtype: int64\n",
            "\n"
          ],
          "name": "stdout"
        }
      ]
    },
    {
      "cell_type": "code",
      "metadata": {
        "colab": {
          "base_uri": "https://localhost:8080/"
        },
        "id": "ZoVw18lmWEhV",
        "outputId": "64f021c8-0679-42cb-f069-9d43a8db1749"
      },
      "source": [
        "# 교차검증 정확도 확인\r\n",
        "\r\n",
        "from sklearn.model_selection import StratifiedKFold\r\n",
        "\r\n",
        "dt_clf = DecisionTreeClassifier(random_state=100)\r\n",
        "\r\n",
        "skf = StratifiedKFold(n_splits=3)\r\n",
        "n_iter = 0\r\n",
        "cv_accuracy = []\r\n",
        "\r\n",
        "for train_idx, test_idx in skf.split(features,label) :\r\n",
        "    X_train, X_val = features[train_idx], features[test_idx]\r\n",
        "    y_train, y_val = label[train_idx], label[test_idx]\r\n",
        "\r\n",
        "    # 학습, 예측\r\n",
        "    dt_clf.fit(X_train, y_train)\r\n",
        "    pred = dt_clf.predict(X_val)\r\n",
        "\r\n",
        "    # 반복 시 정확도 측정\r\n",
        "    n_iter += 1\r\n",
        "    acc = np.round(accuracy_score(y_val, pred),4)\r\n",
        "    print('{} 교차검증 정확도 : {}, 학습 데이터 크기 : {}, 검증 데이터 크기 : {}'.format(n_iter, acc, X_train.shape[0], X_val.shape[0]))  \r\n",
        "    print('{} 검증셋 인덱스 : {}'.format(n_iter, X_val.shape[0]))\r\n",
        "\r\n",
        "    cv_accuracy.append(acc)\r\n",
        "\r\n",
        "print()\r\n",
        "print('교차 검증 정확도', np.round(cv_accuracy,4) )\r\n",
        "print('평균 검증 정확도', np.mean(cv_accuracy))\r\n"
      ],
      "execution_count": 58,
      "outputs": [
        {
          "output_type": "stream",
          "text": [
            "1 교차검증 정확도 : 0.98, 학습 데이터 크기 : 100, 검증 데이터 크기 : 50\n",
            "1 검증셋 인덱스 : 50\n",
            "2 교차검증 정확도 : 0.92, 학습 데이터 크기 : 100, 검증 데이터 크기 : 50\n",
            "2 검증셋 인덱스 : 50\n",
            "3 교차검증 정확도 : 0.96, 학습 데이터 크기 : 100, 검증 데이터 크기 : 50\n",
            "3 검증셋 인덱스 : 50\n",
            "\n",
            "교차 검증 정확도 [0.98 0.92 0.96]\n",
            "평균 검증 정확도 0.9533333333333333\n"
          ],
          "name": "stdout"
        }
      ]
    },
    {
      "cell_type": "code",
      "metadata": {
        "id": "aviBhTeFh4fc"
      },
      "source": [
        "    "
      ],
      "execution_count": null,
      "outputs": []
    }
  ]
}